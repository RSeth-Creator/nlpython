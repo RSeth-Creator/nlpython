{
 "cells": [
  {
   "cell_type": "code",
   "execution_count": 1,
   "metadata": {},
   "outputs": [],
   "source": [
    "from WikiDatabase import WikiDatabase"
   ]
  },
  {
   "cell_type": "code",
   "execution_count": 2,
   "metadata": {},
   "outputs": [],
   "source": [
    "wikidb = WikiDatabase(\"localhost\", \"wikidb\", \"wikidb\", \"wikidb\")"
   ]
  },
  {
   "cell_type": "code",
   "execution_count": 3,
   "metadata": {},
   "outputs": [
    {
     "data": {
      "text/plain": [
       "['Wikip%C3%A9dia',\n",
       " 'Lia-tetun',\n",
       " 'Tim%C3%B3r_Lorosa%27e',\n",
       " 'Lia-portug%C3%A9s',\n",
       " 'Wikipedia:Lista_husi_artigu_sira_ne%27eb%C3%A9_Wikip%C3%A9dia_hotu-hotu_bele_iha',\n",
       " 'Wikipedia:Milestones',\n",
       " 'Imajen:Flag_of_East_Timor.svg',\n",
       " 'Imajen:Nuvola_filesystems_folder_home.png',\n",
       " 'Matem%C3%A1tika',\n",
       " 'Teknolojia']"
      ]
     },
     "execution_count": 3,
     "metadata": {},
     "output_type": "execute_result"
    }
   ],
   "source": [
    "wikidb.get_null_hrefs(10)"
   ]
  },
  {
   "cell_type": "code",
   "execution_count": 5,
   "metadata": {},
   "outputs": [],
   "source": [
    "import asyncio"
   ]
  },
  {
   "cell_type": "code",
   "execution_count": 6,
   "metadata": {},
   "outputs": [
    {
     "ename": "RuntimeError",
     "evalue": "asyncio.run() cannot be called from a running event loop",
     "output_type": "error",
     "traceback": [
      "\u001b[1;31m---------------------------------------------------------------------------\u001b[0m",
      "\u001b[1;31mRuntimeError\u001b[0m                              Traceback (most recent call last)",
      "\u001b[1;32m<ipython-input-6-8cc0edf64ce5>\u001b[0m in \u001b[0;36m<module>\u001b[1;34m\u001b[0m\n\u001b[0;32m      5\u001b[0m \u001b[1;33m\u001b[0m\u001b[0m\n\u001b[0;32m      6\u001b[0m \u001b[1;31m# Python 3.7+\u001b[0m\u001b[1;33m\u001b[0m\u001b[1;33m\u001b[0m\u001b[1;33m\u001b[0m\u001b[0m\n\u001b[1;32m----> 7\u001b[1;33m \u001b[0masyncio\u001b[0m\u001b[1;33m.\u001b[0m\u001b[0mrun\u001b[0m\u001b[1;33m(\u001b[0m\u001b[0mmain\u001b[0m\u001b[1;33m(\u001b[0m\u001b[1;33m)\u001b[0m\u001b[1;33m)\u001b[0m\u001b[1;33m\u001b[0m\u001b[1;33m\u001b[0m\u001b[0m\n\u001b[0m",
      "\u001b[1;32m~\\miniconda3\\envs\\nlp\\lib\\asyncio\\runners.py\u001b[0m in \u001b[0;36mrun\u001b[1;34m(main, debug)\u001b[0m\n\u001b[0;32m     32\u001b[0m     \u001b[1;32mif\u001b[0m \u001b[0mevents\u001b[0m\u001b[1;33m.\u001b[0m\u001b[0m_get_running_loop\u001b[0m\u001b[1;33m(\u001b[0m\u001b[1;33m)\u001b[0m \u001b[1;32mis\u001b[0m \u001b[1;32mnot\u001b[0m \u001b[1;32mNone\u001b[0m\u001b[1;33m:\u001b[0m\u001b[1;33m\u001b[0m\u001b[1;33m\u001b[0m\u001b[0m\n\u001b[0;32m     33\u001b[0m         raise RuntimeError(\n\u001b[1;32m---> 34\u001b[1;33m             \"asyncio.run() cannot be called from a running event loop\")\n\u001b[0m\u001b[0;32m     35\u001b[0m \u001b[1;33m\u001b[0m\u001b[0m\n\u001b[0;32m     36\u001b[0m     \u001b[1;32mif\u001b[0m \u001b[1;32mnot\u001b[0m \u001b[0mcoroutines\u001b[0m\u001b[1;33m.\u001b[0m\u001b[0miscoroutine\u001b[0m\u001b[1;33m(\u001b[0m\u001b[0mmain\u001b[0m\u001b[1;33m)\u001b[0m\u001b[1;33m:\u001b[0m\u001b[1;33m\u001b[0m\u001b[1;33m\u001b[0m\u001b[0m\n",
      "\u001b[1;31mRuntimeError\u001b[0m: asyncio.run() cannot be called from a running event loop"
     ]
    }
   ],
   "source": [
    "async def main():\n",
    "    print('Hello ...')\n",
    "    await asyncio.sleep(1)\n",
    "    print('... World!')\n",
    "\n",
    "# Python 3.7+\n",
    "asyncio.run(main())"
   ]
  },
  {
   "cell_type": "code",
   "execution_count": 4,
   "metadata": {},
   "outputs": [],
   "source": [
    "#wikidb.cursor.execute(\"SELECT href FROM links LIMIT 10\", list())\n",
    "#list(wikidb.cursor)"
   ]
  },
  {
   "cell_type": "code",
   "execution_count": 11,
   "metadata": {},
   "outputs": [
    {
     "data": {
      "text/plain": [
       "[('information_schema',), ('test',), ('wikidb',)]"
      ]
     },
     "execution_count": 11,
     "metadata": {},
     "output_type": "execute_result"
    }
   ],
   "source": [
    "list(wikidb.cursor)"
   ]
  },
  {
   "cell_type": "code",
   "execution_count": 7,
   "metadata": {},
   "outputs": [
    {
     "ename": "AttributeError",
     "evalue": "'NoneType' object has no attribute 'fetchall'",
     "output_type": "error",
     "traceback": [
      "\u001b[1;31m---------------------------------------------------------------------------\u001b[0m",
      "\u001b[1;31mAttributeError\u001b[0m                            Traceback (most recent call last)",
      "\u001b[1;32m<ipython-input-7-26b9ae10b23a>\u001b[0m in \u001b[0;36m<module>\u001b[1;34m\u001b[0m\n\u001b[1;32m----> 1\u001b[1;33m \u001b[0ma\u001b[0m\u001b[1;33m.\u001b[0m\u001b[0mfetchall\u001b[0m\u001b[1;33m\u001b[0m\u001b[1;33m\u001b[0m\u001b[0m\n\u001b[0m",
      "\u001b[1;31mAttributeError\u001b[0m: 'NoneType' object has no attribute 'fetchall'"
     ]
    }
   ],
   "source": [
    "a.fetchall"
   ]
  },
  {
   "cell_type": "code",
   "execution_count": 4,
   "metadata": {},
   "outputs": [
    {
     "ename": "InternalError",
     "evalue": "Unread result found",
     "output_type": "error",
     "traceback": [
      "\u001b[1;31m---------------------------------------------------------------------------\u001b[0m",
      "\u001b[1;31mInternalError\u001b[0m                             Traceback (most recent call last)",
      "\u001b[1;32m<ipython-input-4-a97d392bdf13>\u001b[0m in \u001b[0;36m<module>\u001b[1;34m\u001b[0m\n\u001b[0;32m      1\u001b[0m \u001b[0msql\u001b[0m \u001b[1;33m=\u001b[0m \u001b[1;34m\"SELECT * FROM links\"\u001b[0m\u001b[1;33m\u001b[0m\u001b[1;33m\u001b[0m\u001b[0m\n\u001b[0;32m      2\u001b[0m \u001b[1;31m#wikidb._execute_query(sql, [])\u001b[0m\u001b[1;33m\u001b[0m\u001b[1;33m\u001b[0m\u001b[1;33m\u001b[0m\u001b[0m\n\u001b[1;32m----> 3\u001b[1;33m \u001b[0ma\u001b[0m \u001b[1;33m=\u001b[0m \u001b[0mwikidb\u001b[0m\u001b[1;33m.\u001b[0m\u001b[0mcursor\u001b[0m\u001b[1;33m.\u001b[0m\u001b[0mexecute\u001b[0m\u001b[1;33m(\u001b[0m\u001b[0msql\u001b[0m\u001b[1;33m)\u001b[0m\u001b[1;33m\u001b[0m\u001b[1;33m\u001b[0m\u001b[0m\n\u001b[0m\u001b[0;32m      4\u001b[0m \u001b[1;33m\u001b[0m\u001b[0m\n\u001b[0;32m      5\u001b[0m \u001b[0ma\u001b[0m\u001b[1;33m\u001b[0m\u001b[1;33m\u001b[0m\u001b[0m\n",
      "\u001b[1;32m~\\miniconda3\\envs\\nlp\\lib\\site-packages\\mysql\\connector\\cursor.py\u001b[0m in \u001b[0;36mexecute\u001b[1;34m(self, operation, params, multi)\u001b[0m\n\u001b[0;32m    519\u001b[0m             \u001b[1;32mraise\u001b[0m \u001b[0merrors\u001b[0m\u001b[1;33m.\u001b[0m\u001b[0mProgrammingError\u001b[0m\u001b[1;33m(\u001b[0m\u001b[1;34m\"Cursor is not connected\"\u001b[0m\u001b[1;33m)\u001b[0m\u001b[1;33m\u001b[0m\u001b[1;33m\u001b[0m\u001b[0m\n\u001b[0;32m    520\u001b[0m \u001b[1;33m\u001b[0m\u001b[0m\n\u001b[1;32m--> 521\u001b[1;33m         \u001b[0mself\u001b[0m\u001b[1;33m.\u001b[0m\u001b[0m_connection\u001b[0m\u001b[1;33m.\u001b[0m\u001b[0mhandle_unread_result\u001b[0m\u001b[1;33m(\u001b[0m\u001b[1;33m)\u001b[0m\u001b[1;33m\u001b[0m\u001b[1;33m\u001b[0m\u001b[0m\n\u001b[0m\u001b[0;32m    522\u001b[0m \u001b[1;33m\u001b[0m\u001b[0m\n\u001b[0;32m    523\u001b[0m         \u001b[0mself\u001b[0m\u001b[1;33m.\u001b[0m\u001b[0m_reset_result\u001b[0m\u001b[1;33m(\u001b[0m\u001b[1;33m)\u001b[0m\u001b[1;33m\u001b[0m\u001b[1;33m\u001b[0m\u001b[0m\n",
      "\u001b[1;32m~\\miniconda3\\envs\\nlp\\lib\\site-packages\\mysql\\connector\\connection.py\u001b[0m in \u001b[0;36mhandle_unread_result\u001b[1;34m(self)\u001b[0m\n\u001b[0;32m   1057\u001b[0m             \u001b[0mself\u001b[0m\u001b[1;33m.\u001b[0m\u001b[0mconsume_results\u001b[0m\u001b[1;33m(\u001b[0m\u001b[1;33m)\u001b[0m\u001b[1;33m\u001b[0m\u001b[1;33m\u001b[0m\u001b[0m\n\u001b[0;32m   1058\u001b[0m         \u001b[1;32melif\u001b[0m \u001b[0mself\u001b[0m\u001b[1;33m.\u001b[0m\u001b[0munread_result\u001b[0m\u001b[1;33m:\u001b[0m\u001b[1;33m\u001b[0m\u001b[1;33m\u001b[0m\u001b[0m\n\u001b[1;32m-> 1059\u001b[1;33m             \u001b[1;32mraise\u001b[0m \u001b[0merrors\u001b[0m\u001b[1;33m.\u001b[0m\u001b[0mInternalError\u001b[0m\u001b[1;33m(\u001b[0m\u001b[1;34m\"Unread result found\"\u001b[0m\u001b[1;33m)\u001b[0m\u001b[1;33m\u001b[0m\u001b[1;33m\u001b[0m\u001b[0m\n\u001b[0m",
      "\u001b[1;31mInternalError\u001b[0m: Unread result found"
     ]
    }
   ],
   "source": [
    "sql = \"SELECT * FROM links\"\n",
    "#wikidb._execute_query(sql, [])\n",
    "a = wikidb.cursor.execute(sql)\n",
    "\n",
    "a"
   ]
  },
  {
   "cell_type": "code",
   "execution_count": 3,
   "metadata": {},
   "outputs": [],
   "source": [
    "wikidb.get_null_hrefs()"
   ]
  },
  {
   "cell_type": "code",
   "execution_count": 66,
   "metadata": {},
   "outputs": [],
   "source": [
    "import requests\n",
    "\n",
    "def download_page_data(page, lang, timeout):\n",
    "    \"\"\"Function to retrieve a wikipedia page in html form, with its sections\"\"\"\n",
    "\n",
    "    req_params = [\n",
    "        'action=parse',\n",
    "        'redirects',\n",
    "        'format=json',\n",
    "        'prop=text|displaytitle',\n",
    "        'page=' + page\n",
    "    ]\n",
    "\n",
    "    wikipedia_api_url = \"https://\" + lang + \".wikipedia.org/w/api.php?\" + \"&\".join(req_params)\n",
    "\n",
    "    try:\n",
    "        page_data = requests.get(wikipedia_api_url, timeout=timeout).json()\n",
    "    except requests.exceptions.ConnectTimeout:\n",
    "        print(\"[WARNING]\\tPage {} timed out.\".format(page))\n",
    "\n",
    "    #If the object parse is not in the json object, page does not exists\n",
    "    if not 'parse' in page_data:\n",
    "        print(\"[WARNING]\\tPage {} does not exists.\".format(page))\n",
    "        page_title = \"\"\n",
    "        page_id = -1\n",
    "        page_html = \"\"\n",
    "    else:\n",
    "        page_title = page_data['parse']['title']\n",
    "        page_id = page_data['parse']['pageid']\n",
    "        page_html = page_data['parse']['text']['*']\n",
    "\n",
    "    return page, page_title, page_id, page_html"
   ]
  },
  {
   "cell_type": "code",
   "execution_count": 7,
   "metadata": {},
   "outputs": [
    {
     "ename": "ConnectionError",
     "evalue": "HTTPSConnectionPool(host='dsfds.wikipedia.org', port=443): Max retries exceeded with url: /w/api.php?action=parse&redirects&format=json&prop=text%7Cdisplaytitle&page=mqtt2 (Caused by NewConnectionError('<urllib3.connection.VerifiedHTTPSConnection object at 0x00000000064CD048>: Failed to establish a new connection: [Errno 11004] getaddrinfo failed'))",
     "output_type": "error",
     "traceback": [
      "\u001b[1;31m---------------------------------------------------------------------------\u001b[0m",
      "\u001b[1;31mgaierror\u001b[0m                                  Traceback (most recent call last)",
      "\u001b[1;32m~\\miniconda3\\envs\\nlp\\lib\\site-packages\\urllib3\\connection.py\u001b[0m in \u001b[0;36m_new_conn\u001b[1;34m(self)\u001b[0m\n\u001b[0;32m    156\u001b[0m             conn = connection.create_connection(\n\u001b[1;32m--> 157\u001b[1;33m                 \u001b[1;33m(\u001b[0m\u001b[0mself\u001b[0m\u001b[1;33m.\u001b[0m\u001b[0m_dns_host\u001b[0m\u001b[1;33m,\u001b[0m \u001b[0mself\u001b[0m\u001b[1;33m.\u001b[0m\u001b[0mport\u001b[0m\u001b[1;33m)\u001b[0m\u001b[1;33m,\u001b[0m \u001b[0mself\u001b[0m\u001b[1;33m.\u001b[0m\u001b[0mtimeout\u001b[0m\u001b[1;33m,\u001b[0m \u001b[1;33m**\u001b[0m\u001b[0mextra_kw\u001b[0m\u001b[1;33m\u001b[0m\u001b[1;33m\u001b[0m\u001b[0m\n\u001b[0m\u001b[0;32m    158\u001b[0m             )\n",
      "\u001b[1;32m~\\miniconda3\\envs\\nlp\\lib\\site-packages\\urllib3\\util\\connection.py\u001b[0m in \u001b[0;36mcreate_connection\u001b[1;34m(address, timeout, source_address, socket_options)\u001b[0m\n\u001b[0;32m     60\u001b[0m \u001b[1;33m\u001b[0m\u001b[0m\n\u001b[1;32m---> 61\u001b[1;33m     \u001b[1;32mfor\u001b[0m \u001b[0mres\u001b[0m \u001b[1;32min\u001b[0m \u001b[0msocket\u001b[0m\u001b[1;33m.\u001b[0m\u001b[0mgetaddrinfo\u001b[0m\u001b[1;33m(\u001b[0m\u001b[0mhost\u001b[0m\u001b[1;33m,\u001b[0m \u001b[0mport\u001b[0m\u001b[1;33m,\u001b[0m \u001b[0mfamily\u001b[0m\u001b[1;33m,\u001b[0m \u001b[0msocket\u001b[0m\u001b[1;33m.\u001b[0m\u001b[0mSOCK_STREAM\u001b[0m\u001b[1;33m)\u001b[0m\u001b[1;33m:\u001b[0m\u001b[1;33m\u001b[0m\u001b[1;33m\u001b[0m\u001b[0m\n\u001b[0m\u001b[0;32m     62\u001b[0m         \u001b[0maf\u001b[0m\u001b[1;33m,\u001b[0m \u001b[0msocktype\u001b[0m\u001b[1;33m,\u001b[0m \u001b[0mproto\u001b[0m\u001b[1;33m,\u001b[0m \u001b[0mcanonname\u001b[0m\u001b[1;33m,\u001b[0m \u001b[0msa\u001b[0m \u001b[1;33m=\u001b[0m \u001b[0mres\u001b[0m\u001b[1;33m\u001b[0m\u001b[1;33m\u001b[0m\u001b[0m\n",
      "\u001b[1;32m~\\miniconda3\\envs\\nlp\\lib\\socket.py\u001b[0m in \u001b[0;36mgetaddrinfo\u001b[1;34m(host, port, family, type, proto, flags)\u001b[0m\n\u001b[0;32m    751\u001b[0m     \u001b[0maddrlist\u001b[0m \u001b[1;33m=\u001b[0m \u001b[1;33m[\u001b[0m\u001b[1;33m]\u001b[0m\u001b[1;33m\u001b[0m\u001b[1;33m\u001b[0m\u001b[0m\n\u001b[1;32m--> 752\u001b[1;33m     \u001b[1;32mfor\u001b[0m \u001b[0mres\u001b[0m \u001b[1;32min\u001b[0m \u001b[0m_socket\u001b[0m\u001b[1;33m.\u001b[0m\u001b[0mgetaddrinfo\u001b[0m\u001b[1;33m(\u001b[0m\u001b[0mhost\u001b[0m\u001b[1;33m,\u001b[0m \u001b[0mport\u001b[0m\u001b[1;33m,\u001b[0m \u001b[0mfamily\u001b[0m\u001b[1;33m,\u001b[0m \u001b[0mtype\u001b[0m\u001b[1;33m,\u001b[0m \u001b[0mproto\u001b[0m\u001b[1;33m,\u001b[0m \u001b[0mflags\u001b[0m\u001b[1;33m)\u001b[0m\u001b[1;33m:\u001b[0m\u001b[1;33m\u001b[0m\u001b[1;33m\u001b[0m\u001b[0m\n\u001b[0m\u001b[0;32m    753\u001b[0m         \u001b[0maf\u001b[0m\u001b[1;33m,\u001b[0m \u001b[0msocktype\u001b[0m\u001b[1;33m,\u001b[0m \u001b[0mproto\u001b[0m\u001b[1;33m,\u001b[0m \u001b[0mcanonname\u001b[0m\u001b[1;33m,\u001b[0m \u001b[0msa\u001b[0m \u001b[1;33m=\u001b[0m \u001b[0mres\u001b[0m\u001b[1;33m\u001b[0m\u001b[1;33m\u001b[0m\u001b[0m\n",
      "\u001b[1;31mgaierror\u001b[0m: [Errno 11004] getaddrinfo failed",
      "\nDuring handling of the above exception, another exception occurred:\n",
      "\u001b[1;31mNewConnectionError\u001b[0m                        Traceback (most recent call last)",
      "\u001b[1;32m~\\miniconda3\\envs\\nlp\\lib\\site-packages\\urllib3\\connectionpool.py\u001b[0m in \u001b[0;36murlopen\u001b[1;34m(self, method, url, body, headers, retries, redirect, assert_same_host, timeout, pool_timeout, release_conn, chunked, body_pos, **response_kw)\u001b[0m\n\u001b[0;32m    671\u001b[0m                 \u001b[0mheaders\u001b[0m\u001b[1;33m=\u001b[0m\u001b[0mheaders\u001b[0m\u001b[1;33m,\u001b[0m\u001b[1;33m\u001b[0m\u001b[1;33m\u001b[0m\u001b[0m\n\u001b[1;32m--> 672\u001b[1;33m                 \u001b[0mchunked\u001b[0m\u001b[1;33m=\u001b[0m\u001b[0mchunked\u001b[0m\u001b[1;33m,\u001b[0m\u001b[1;33m\u001b[0m\u001b[1;33m\u001b[0m\u001b[0m\n\u001b[0m\u001b[0;32m    673\u001b[0m             )\n",
      "\u001b[1;32m~\\miniconda3\\envs\\nlp\\lib\\site-packages\\urllib3\\connectionpool.py\u001b[0m in \u001b[0;36m_make_request\u001b[1;34m(self, conn, method, url, timeout, chunked, **httplib_request_kw)\u001b[0m\n\u001b[0;32m    375\u001b[0m         \u001b[1;32mtry\u001b[0m\u001b[1;33m:\u001b[0m\u001b[1;33m\u001b[0m\u001b[1;33m\u001b[0m\u001b[0m\n\u001b[1;32m--> 376\u001b[1;33m             \u001b[0mself\u001b[0m\u001b[1;33m.\u001b[0m\u001b[0m_validate_conn\u001b[0m\u001b[1;33m(\u001b[0m\u001b[0mconn\u001b[0m\u001b[1;33m)\u001b[0m\u001b[1;33m\u001b[0m\u001b[1;33m\u001b[0m\u001b[0m\n\u001b[0m\u001b[0;32m    377\u001b[0m         \u001b[1;32mexcept\u001b[0m \u001b[1;33m(\u001b[0m\u001b[0mSocketTimeout\u001b[0m\u001b[1;33m,\u001b[0m \u001b[0mBaseSSLError\u001b[0m\u001b[1;33m)\u001b[0m \u001b[1;32mas\u001b[0m \u001b[0me\u001b[0m\u001b[1;33m:\u001b[0m\u001b[1;33m\u001b[0m\u001b[1;33m\u001b[0m\u001b[0m\n",
      "\u001b[1;32m~\\miniconda3\\envs\\nlp\\lib\\site-packages\\urllib3\\connectionpool.py\u001b[0m in \u001b[0;36m_validate_conn\u001b[1;34m(self, conn)\u001b[0m\n\u001b[0;32m    993\u001b[0m         \u001b[1;32mif\u001b[0m \u001b[1;32mnot\u001b[0m \u001b[0mgetattr\u001b[0m\u001b[1;33m(\u001b[0m\u001b[0mconn\u001b[0m\u001b[1;33m,\u001b[0m \u001b[1;34m\"sock\"\u001b[0m\u001b[1;33m,\u001b[0m \u001b[1;32mNone\u001b[0m\u001b[1;33m)\u001b[0m\u001b[1;33m:\u001b[0m  \u001b[1;31m# AppEngine might not have  `.sock`\u001b[0m\u001b[1;33m\u001b[0m\u001b[1;33m\u001b[0m\u001b[0m\n\u001b[1;32m--> 994\u001b[1;33m             \u001b[0mconn\u001b[0m\u001b[1;33m.\u001b[0m\u001b[0mconnect\u001b[0m\u001b[1;33m(\u001b[0m\u001b[1;33m)\u001b[0m\u001b[1;33m\u001b[0m\u001b[1;33m\u001b[0m\u001b[0m\n\u001b[0m\u001b[0;32m    995\u001b[0m \u001b[1;33m\u001b[0m\u001b[0m\n",
      "\u001b[1;32m~\\miniconda3\\envs\\nlp\\lib\\site-packages\\urllib3\\connection.py\u001b[0m in \u001b[0;36mconnect\u001b[1;34m(self)\u001b[0m\n\u001b[0;32m    299\u001b[0m         \u001b[1;31m# Add certificate verification\u001b[0m\u001b[1;33m\u001b[0m\u001b[1;33m\u001b[0m\u001b[1;33m\u001b[0m\u001b[0m\n\u001b[1;32m--> 300\u001b[1;33m         \u001b[0mconn\u001b[0m \u001b[1;33m=\u001b[0m \u001b[0mself\u001b[0m\u001b[1;33m.\u001b[0m\u001b[0m_new_conn\u001b[0m\u001b[1;33m(\u001b[0m\u001b[1;33m)\u001b[0m\u001b[1;33m\u001b[0m\u001b[1;33m\u001b[0m\u001b[0m\n\u001b[0m\u001b[0;32m    301\u001b[0m         \u001b[0mhostname\u001b[0m \u001b[1;33m=\u001b[0m \u001b[0mself\u001b[0m\u001b[1;33m.\u001b[0m\u001b[0mhost\u001b[0m\u001b[1;33m\u001b[0m\u001b[1;33m\u001b[0m\u001b[0m\n",
      "\u001b[1;32m~\\miniconda3\\envs\\nlp\\lib\\site-packages\\urllib3\\connection.py\u001b[0m in \u001b[0;36m_new_conn\u001b[1;34m(self)\u001b[0m\n\u001b[0;32m    168\u001b[0m             raise NewConnectionError(\n\u001b[1;32m--> 169\u001b[1;33m                 \u001b[0mself\u001b[0m\u001b[1;33m,\u001b[0m \u001b[1;34m\"Failed to establish a new connection: %s\"\u001b[0m \u001b[1;33m%\u001b[0m \u001b[0me\u001b[0m\u001b[1;33m\u001b[0m\u001b[1;33m\u001b[0m\u001b[0m\n\u001b[0m\u001b[0;32m    170\u001b[0m             )\n",
      "\u001b[1;31mNewConnectionError\u001b[0m: <urllib3.connection.VerifiedHTTPSConnection object at 0x00000000064CD048>: Failed to establish a new connection: [Errno 11004] getaddrinfo failed",
      "\nDuring handling of the above exception, another exception occurred:\n",
      "\u001b[1;31mMaxRetryError\u001b[0m                             Traceback (most recent call last)",
      "\u001b[1;32m~\\miniconda3\\envs\\nlp\\lib\\site-packages\\requests\\adapters.py\u001b[0m in \u001b[0;36msend\u001b[1;34m(self, request, stream, timeout, verify, cert, proxies)\u001b[0m\n\u001b[0;32m    448\u001b[0m                     \u001b[0mretries\u001b[0m\u001b[1;33m=\u001b[0m\u001b[0mself\u001b[0m\u001b[1;33m.\u001b[0m\u001b[0mmax_retries\u001b[0m\u001b[1;33m,\u001b[0m\u001b[1;33m\u001b[0m\u001b[1;33m\u001b[0m\u001b[0m\n\u001b[1;32m--> 449\u001b[1;33m                     \u001b[0mtimeout\u001b[0m\u001b[1;33m=\u001b[0m\u001b[0mtimeout\u001b[0m\u001b[1;33m\u001b[0m\u001b[1;33m\u001b[0m\u001b[0m\n\u001b[0m\u001b[0;32m    450\u001b[0m                 )\n",
      "\u001b[1;32m~\\miniconda3\\envs\\nlp\\lib\\site-packages\\urllib3\\connectionpool.py\u001b[0m in \u001b[0;36murlopen\u001b[1;34m(self, method, url, body, headers, retries, redirect, assert_same_host, timeout, pool_timeout, release_conn, chunked, body_pos, **response_kw)\u001b[0m\n\u001b[0;32m    719\u001b[0m             retries = retries.increment(\n\u001b[1;32m--> 720\u001b[1;33m                 \u001b[0mmethod\u001b[0m\u001b[1;33m,\u001b[0m \u001b[0murl\u001b[0m\u001b[1;33m,\u001b[0m \u001b[0merror\u001b[0m\u001b[1;33m=\u001b[0m\u001b[0me\u001b[0m\u001b[1;33m,\u001b[0m \u001b[0m_pool\u001b[0m\u001b[1;33m=\u001b[0m\u001b[0mself\u001b[0m\u001b[1;33m,\u001b[0m \u001b[0m_stacktrace\u001b[0m\u001b[1;33m=\u001b[0m\u001b[0msys\u001b[0m\u001b[1;33m.\u001b[0m\u001b[0mexc_info\u001b[0m\u001b[1;33m(\u001b[0m\u001b[1;33m)\u001b[0m\u001b[1;33m[\u001b[0m\u001b[1;36m2\u001b[0m\u001b[1;33m]\u001b[0m\u001b[1;33m\u001b[0m\u001b[1;33m\u001b[0m\u001b[0m\n\u001b[0m\u001b[0;32m    721\u001b[0m             )\n",
      "\u001b[1;32m~\\miniconda3\\envs\\nlp\\lib\\site-packages\\urllib3\\util\\retry.py\u001b[0m in \u001b[0;36mincrement\u001b[1;34m(self, method, url, response, error, _pool, _stacktrace)\u001b[0m\n\u001b[0;32m    435\u001b[0m         \u001b[1;32mif\u001b[0m \u001b[0mnew_retry\u001b[0m\u001b[1;33m.\u001b[0m\u001b[0mis_exhausted\u001b[0m\u001b[1;33m(\u001b[0m\u001b[1;33m)\u001b[0m\u001b[1;33m:\u001b[0m\u001b[1;33m\u001b[0m\u001b[1;33m\u001b[0m\u001b[0m\n\u001b[1;32m--> 436\u001b[1;33m             \u001b[1;32mraise\u001b[0m \u001b[0mMaxRetryError\u001b[0m\u001b[1;33m(\u001b[0m\u001b[0m_pool\u001b[0m\u001b[1;33m,\u001b[0m \u001b[0murl\u001b[0m\u001b[1;33m,\u001b[0m \u001b[0merror\u001b[0m \u001b[1;32mor\u001b[0m \u001b[0mResponseError\u001b[0m\u001b[1;33m(\u001b[0m\u001b[0mcause\u001b[0m\u001b[1;33m)\u001b[0m\u001b[1;33m)\u001b[0m\u001b[1;33m\u001b[0m\u001b[1;33m\u001b[0m\u001b[0m\n\u001b[0m\u001b[0;32m    437\u001b[0m \u001b[1;33m\u001b[0m\u001b[0m\n",
      "\u001b[1;31mMaxRetryError\u001b[0m: HTTPSConnectionPool(host='dsfds.wikipedia.org', port=443): Max retries exceeded with url: /w/api.php?action=parse&redirects&format=json&prop=text%7Cdisplaytitle&page=mqtt2 (Caused by NewConnectionError('<urllib3.connection.VerifiedHTTPSConnection object at 0x00000000064CD048>: Failed to establish a new connection: [Errno 11004] getaddrinfo failed'))",
      "\nDuring handling of the above exception, another exception occurred:\n",
      "\u001b[1;31mConnectionError\u001b[0m                           Traceback (most recent call last)",
      "\u001b[1;32m<ipython-input-7-0f78303632c1>\u001b[0m in \u001b[0;36m<module>\u001b[1;34m\u001b[0m\n\u001b[1;32m----> 1\u001b[1;33m \u001b[0m_download_page_data\u001b[0m\u001b[1;33m(\u001b[0m\u001b[1;34m'mqtt2'\u001b[0m\u001b[1;33m,\u001b[0m \u001b[1;34m'dsfds'\u001b[0m\u001b[1;33m,\u001b[0m \u001b[1;36m60\u001b[0m\u001b[1;33m)\u001b[0m\u001b[1;33m\u001b[0m\u001b[1;33m\u001b[0m\u001b[0m\n\u001b[0m",
      "\u001b[1;32m<ipython-input-4-385c81f95f79>\u001b[0m in \u001b[0;36m_download_page_data\u001b[1;34m(page, lang, timeout)\u001b[0m\n\u001b[0;32m     15\u001b[0m \u001b[1;33m\u001b[0m\u001b[0m\n\u001b[0;32m     16\u001b[0m     \u001b[1;32mtry\u001b[0m\u001b[1;33m:\u001b[0m\u001b[1;33m\u001b[0m\u001b[1;33m\u001b[0m\u001b[0m\n\u001b[1;32m---> 17\u001b[1;33m         \u001b[0mpage_data\u001b[0m \u001b[1;33m=\u001b[0m \u001b[0mrequests\u001b[0m\u001b[1;33m.\u001b[0m\u001b[0mget\u001b[0m\u001b[1;33m(\u001b[0m\u001b[0mwikipedia_api_url\u001b[0m\u001b[1;33m,\u001b[0m \u001b[0mtimeout\u001b[0m\u001b[1;33m=\u001b[0m\u001b[0mtimeout\u001b[0m\u001b[1;33m)\u001b[0m\u001b[1;33m.\u001b[0m\u001b[0mjson\u001b[0m\u001b[1;33m(\u001b[0m\u001b[1;33m)\u001b[0m\u001b[1;33m\u001b[0m\u001b[1;33m\u001b[0m\u001b[0m\n\u001b[0m\u001b[0;32m     18\u001b[0m     \u001b[1;32mexcept\u001b[0m \u001b[0mrequests\u001b[0m\u001b[1;33m.\u001b[0m\u001b[0mexceptions\u001b[0m\u001b[1;33m.\u001b[0m\u001b[0mConnectTimeout\u001b[0m\u001b[1;33m:\u001b[0m\u001b[1;33m\u001b[0m\u001b[1;33m\u001b[0m\u001b[0m\n\u001b[0;32m     19\u001b[0m         \u001b[0mprint\u001b[0m\u001b[1;33m(\u001b[0m\u001b[1;34m\"[WARNING]\\tPage {} timed out.\"\u001b[0m\u001b[1;33m.\u001b[0m\u001b[0mformat\u001b[0m\u001b[1;33m(\u001b[0m\u001b[0mpage\u001b[0m\u001b[1;33m)\u001b[0m\u001b[1;33m)\u001b[0m\u001b[1;33m\u001b[0m\u001b[1;33m\u001b[0m\u001b[0m\n",
      "\u001b[1;32m~\\miniconda3\\envs\\nlp\\lib\\site-packages\\requests\\api.py\u001b[0m in \u001b[0;36mget\u001b[1;34m(url, params, **kwargs)\u001b[0m\n\u001b[0;32m     74\u001b[0m \u001b[1;33m\u001b[0m\u001b[0m\n\u001b[0;32m     75\u001b[0m     \u001b[0mkwargs\u001b[0m\u001b[1;33m.\u001b[0m\u001b[0msetdefault\u001b[0m\u001b[1;33m(\u001b[0m\u001b[1;34m'allow_redirects'\u001b[0m\u001b[1;33m,\u001b[0m \u001b[1;32mTrue\u001b[0m\u001b[1;33m)\u001b[0m\u001b[1;33m\u001b[0m\u001b[1;33m\u001b[0m\u001b[0m\n\u001b[1;32m---> 76\u001b[1;33m     \u001b[1;32mreturn\u001b[0m \u001b[0mrequest\u001b[0m\u001b[1;33m(\u001b[0m\u001b[1;34m'get'\u001b[0m\u001b[1;33m,\u001b[0m \u001b[0murl\u001b[0m\u001b[1;33m,\u001b[0m \u001b[0mparams\u001b[0m\u001b[1;33m=\u001b[0m\u001b[0mparams\u001b[0m\u001b[1;33m,\u001b[0m \u001b[1;33m**\u001b[0m\u001b[0mkwargs\u001b[0m\u001b[1;33m)\u001b[0m\u001b[1;33m\u001b[0m\u001b[1;33m\u001b[0m\u001b[0m\n\u001b[0m\u001b[0;32m     77\u001b[0m \u001b[1;33m\u001b[0m\u001b[0m\n\u001b[0;32m     78\u001b[0m \u001b[1;33m\u001b[0m\u001b[0m\n",
      "\u001b[1;32m~\\miniconda3\\envs\\nlp\\lib\\site-packages\\requests\\api.py\u001b[0m in \u001b[0;36mrequest\u001b[1;34m(method, url, **kwargs)\u001b[0m\n\u001b[0;32m     59\u001b[0m     \u001b[1;31m# cases, and look like a memory leak in others.\u001b[0m\u001b[1;33m\u001b[0m\u001b[1;33m\u001b[0m\u001b[1;33m\u001b[0m\u001b[0m\n\u001b[0;32m     60\u001b[0m     \u001b[1;32mwith\u001b[0m \u001b[0msessions\u001b[0m\u001b[1;33m.\u001b[0m\u001b[0mSession\u001b[0m\u001b[1;33m(\u001b[0m\u001b[1;33m)\u001b[0m \u001b[1;32mas\u001b[0m \u001b[0msession\u001b[0m\u001b[1;33m:\u001b[0m\u001b[1;33m\u001b[0m\u001b[1;33m\u001b[0m\u001b[0m\n\u001b[1;32m---> 61\u001b[1;33m         \u001b[1;32mreturn\u001b[0m \u001b[0msession\u001b[0m\u001b[1;33m.\u001b[0m\u001b[0mrequest\u001b[0m\u001b[1;33m(\u001b[0m\u001b[0mmethod\u001b[0m\u001b[1;33m=\u001b[0m\u001b[0mmethod\u001b[0m\u001b[1;33m,\u001b[0m \u001b[0murl\u001b[0m\u001b[1;33m=\u001b[0m\u001b[0murl\u001b[0m\u001b[1;33m,\u001b[0m \u001b[1;33m**\u001b[0m\u001b[0mkwargs\u001b[0m\u001b[1;33m)\u001b[0m\u001b[1;33m\u001b[0m\u001b[1;33m\u001b[0m\u001b[0m\n\u001b[0m\u001b[0;32m     62\u001b[0m \u001b[1;33m\u001b[0m\u001b[0m\n\u001b[0;32m     63\u001b[0m \u001b[1;33m\u001b[0m\u001b[0m\n",
      "\u001b[1;32m~\\miniconda3\\envs\\nlp\\lib\\site-packages\\requests\\sessions.py\u001b[0m in \u001b[0;36mrequest\u001b[1;34m(self, method, url, params, data, headers, cookies, files, auth, timeout, allow_redirects, proxies, hooks, stream, verify, cert, json)\u001b[0m\n\u001b[0;32m    528\u001b[0m         }\n\u001b[0;32m    529\u001b[0m         \u001b[0msend_kwargs\u001b[0m\u001b[1;33m.\u001b[0m\u001b[0mupdate\u001b[0m\u001b[1;33m(\u001b[0m\u001b[0msettings\u001b[0m\u001b[1;33m)\u001b[0m\u001b[1;33m\u001b[0m\u001b[1;33m\u001b[0m\u001b[0m\n\u001b[1;32m--> 530\u001b[1;33m         \u001b[0mresp\u001b[0m \u001b[1;33m=\u001b[0m \u001b[0mself\u001b[0m\u001b[1;33m.\u001b[0m\u001b[0msend\u001b[0m\u001b[1;33m(\u001b[0m\u001b[0mprep\u001b[0m\u001b[1;33m,\u001b[0m \u001b[1;33m**\u001b[0m\u001b[0msend_kwargs\u001b[0m\u001b[1;33m)\u001b[0m\u001b[1;33m\u001b[0m\u001b[1;33m\u001b[0m\u001b[0m\n\u001b[0m\u001b[0;32m    531\u001b[0m \u001b[1;33m\u001b[0m\u001b[0m\n\u001b[0;32m    532\u001b[0m         \u001b[1;32mreturn\u001b[0m \u001b[0mresp\u001b[0m\u001b[1;33m\u001b[0m\u001b[1;33m\u001b[0m\u001b[0m\n",
      "\u001b[1;32m~\\miniconda3\\envs\\nlp\\lib\\site-packages\\requests\\sessions.py\u001b[0m in \u001b[0;36msend\u001b[1;34m(self, request, **kwargs)\u001b[0m\n\u001b[0;32m    641\u001b[0m \u001b[1;33m\u001b[0m\u001b[0m\n\u001b[0;32m    642\u001b[0m         \u001b[1;31m# Send the request\u001b[0m\u001b[1;33m\u001b[0m\u001b[1;33m\u001b[0m\u001b[1;33m\u001b[0m\u001b[0m\n\u001b[1;32m--> 643\u001b[1;33m         \u001b[0mr\u001b[0m \u001b[1;33m=\u001b[0m \u001b[0madapter\u001b[0m\u001b[1;33m.\u001b[0m\u001b[0msend\u001b[0m\u001b[1;33m(\u001b[0m\u001b[0mrequest\u001b[0m\u001b[1;33m,\u001b[0m \u001b[1;33m**\u001b[0m\u001b[0mkwargs\u001b[0m\u001b[1;33m)\u001b[0m\u001b[1;33m\u001b[0m\u001b[1;33m\u001b[0m\u001b[0m\n\u001b[0m\u001b[0;32m    644\u001b[0m \u001b[1;33m\u001b[0m\u001b[0m\n\u001b[0;32m    645\u001b[0m         \u001b[1;31m# Total elapsed time of the request (approximately)\u001b[0m\u001b[1;33m\u001b[0m\u001b[1;33m\u001b[0m\u001b[1;33m\u001b[0m\u001b[0m\n",
      "\u001b[1;32m~\\miniconda3\\envs\\nlp\\lib\\site-packages\\requests\\adapters.py\u001b[0m in \u001b[0;36msend\u001b[1;34m(self, request, stream, timeout, verify, cert, proxies)\u001b[0m\n\u001b[0;32m    514\u001b[0m                 \u001b[1;32mraise\u001b[0m \u001b[0mSSLError\u001b[0m\u001b[1;33m(\u001b[0m\u001b[0me\u001b[0m\u001b[1;33m,\u001b[0m \u001b[0mrequest\u001b[0m\u001b[1;33m=\u001b[0m\u001b[0mrequest\u001b[0m\u001b[1;33m)\u001b[0m\u001b[1;33m\u001b[0m\u001b[1;33m\u001b[0m\u001b[0m\n\u001b[0;32m    515\u001b[0m \u001b[1;33m\u001b[0m\u001b[0m\n\u001b[1;32m--> 516\u001b[1;33m             \u001b[1;32mraise\u001b[0m \u001b[0mConnectionError\u001b[0m\u001b[1;33m(\u001b[0m\u001b[0me\u001b[0m\u001b[1;33m,\u001b[0m \u001b[0mrequest\u001b[0m\u001b[1;33m=\u001b[0m\u001b[0mrequest\u001b[0m\u001b[1;33m)\u001b[0m\u001b[1;33m\u001b[0m\u001b[1;33m\u001b[0m\u001b[0m\n\u001b[0m\u001b[0;32m    517\u001b[0m \u001b[1;33m\u001b[0m\u001b[0m\n\u001b[0;32m    518\u001b[0m         \u001b[1;32mexcept\u001b[0m \u001b[0mClosedPoolError\u001b[0m \u001b[1;32mas\u001b[0m \u001b[0me\u001b[0m\u001b[1;33m:\u001b[0m\u001b[1;33m\u001b[0m\u001b[1;33m\u001b[0m\u001b[0m\n",
      "\u001b[1;31mConnectionError\u001b[0m: HTTPSConnectionPool(host='dsfds.wikipedia.org', port=443): Max retries exceeded with url: /w/api.php?action=parse&redirects&format=json&prop=text%7Cdisplaytitle&page=mqtt2 (Caused by NewConnectionError('<urllib3.connection.VerifiedHTTPSConnection object at 0x00000000064CD048>: Failed to establish a new connection: [Errno 11004] getaddrinfo failed'))"
     ]
    }
   ],
   "source": [
    "_download_page_data('mqtt2', 'dsfds', 60)"
   ]
  },
  {
   "cell_type": "code",
   "execution_count": 12,
   "metadata": {},
   "outputs": [],
   "source": [
    "def _download_langlinks(title, lang, timeout):\n",
    "    \"\"\"Function to retrieve links to pages of the same content but other languages.\"\"\"\n",
    "    \n",
    "    #https://www.mediawiki.org/wiki/API:Langlinks\n",
    "    #https://en.wikipedia.org/w/api.php?action=query&titles=Technical_drawing&prop=langlinks&lllimit=500\n",
    "\n",
    "    #assert isinstance(title, URL)\n",
    "\n",
    "    req_params = [\n",
    "        'action=query',\n",
    "        'format=json',\n",
    "        'prop=langlinks',\n",
    "        'lllimit=500',\n",
    "        'llprop=url',\n",
    "        'titles=' + title\n",
    "    ]\n",
    "\n",
    "    wikipedia_api_url = \"https://\" + lang + \".wikipedia.org/w/api.php?\" + \"&\".join(req_params)\n",
    "\n",
    "    #try:\n",
    "    page_data = requests.get(wikipedia_api_url, timeout=timeout).json()\n",
    "    #except requests.exceptions.ConnectTimeout:\n",
    "        #raise exceptions.PageRequestTimeout(page, lang, timeout)\n",
    "\n",
    "    langlinks = list()\n",
    "        \n",
    "    for pageid, pagedata in page_data['query']['pages'].items():\n",
    "        if pageid == \"-1\":\n",
    "            raise Exception(\"Page does not exists.\")\n",
    "        \n",
    "        if 'langlinks' not in pagedata:\n",
    "            continue\n",
    "            \n",
    "        for link in pagedata['langlinks']:\n",
    "            url_offset = link['url'].find(\"/wiki/\")\n",
    "            if url_offset == -1:\n",
    "                link_url = None\n",
    "            else:\n",
    "                link_url = link['url'][url_offset+6:]\n",
    "\n",
    "            langlinks.append((link[\"lang\"], link[\"*\"], link_url))\n",
    "            \n",
    "    return langlinks"
   ]
  },
  {
   "cell_type": "code",
   "execution_count": 63,
   "metadata": {},
   "outputs": [],
   "source": [
    "def extract_html_wiki_links(html):\n",
    "    return re.findall('href=\"/wiki/([^\"]+)\"', html, re.IGNORECASE)"
   ]
  },
  {
   "cell_type": "code",
   "execution_count": 68,
   "metadata": {},
   "outputs": [],
   "source": [
    "p_href, p_title, p_id, p_html = download_page_data('Pájina_Mahuluk', 'tet', 60)"
   ]
  },
  {
   "cell_type": "code",
   "execution_count": 72,
   "metadata": {},
   "outputs": [],
   "source": [
    "wikidb.insert_hrefs(p_links)"
   ]
  },
  {
   "cell_type": "code",
   "execution_count": 70,
   "metadata": {},
   "outputs": [],
   "source": [
    "p_links = extract_html_wiki_links(p_html)"
   ]
  },
  {
   "cell_type": "code",
   "execution_count": 71,
   "metadata": {},
   "outputs": [
    {
     "data": {
      "text/plain": [
       "('Wikip%C3%A9dia',\n",
       " 'Wikipédia',\n",
       " 2280,\n",
       " '<div class=\"mw-parser-output\"><div class=\"floatright\"><a href=\"/wiki/Imajen:Wikipedia-logo-v2.svg\" class=\"image\" title=\"Wikipédia\"><img alt=\"Wikipédia\" src=\"//upload.wikimedia.org/wikipedia/commons/thumb/8/80/Wikipedia-logo-v2.svg/103px-Wikipedia-logo-v2.svg.png\" decoding=\"async\" width=\"103\" height=\"94\" srcset=\"//upload.wikimedia.org/wikipedia/commons/thumb/8/80/Wikipedia-logo-v2.svg/155px-Wikipedia-logo-v2.svg.png 1.5x, //upload.wikimedia.org/wikipedia/commons/thumb/8/80/Wikipedia-logo-v2.svg/206px-Wikipedia-logo-v2.svg.png 2x\" data-file-width=\"103\" data-file-height=\"94\" /></a></div>\\n<p><b>Wikipédia</b> - ida-ne\\'e <a href=\"/w/index.php?title=Ensiklop%C3%A9dia&amp;action=edit&amp;redlink=1\" class=\"new\" title=\"Ensiklopédia (pájina la iha)\">ensiklopédia</a> ida livre no gratuita, ho ida ne\\'e ema bain-bain hanesan ita maka halo.\\n</p>\\n<div id=\"toc\" class=\"toc\" role=\"navigation\" aria-labelledby=\"mw-toc-heading\"><input type=\"checkbox\" role=\"button\" id=\"toctogglecheckbox\" class=\"toctogglecheckbox\" style=\"display:none\" /><div class=\"toctitle\" lang=\"tet\" dir=\"ltr\"><h2 id=\"mw-toc-heading\">Tabela konteúdu</h2><span class=\"toctogglespan\"><label class=\"toctogglelabel\" for=\"toctogglecheckbox\"></label></span></div>\\n<ul>\\n<li class=\"toclevel-1 tocsection-1\"><a href=\"#List_of_Wikipedias\"><span class=\"tocnumber\">1</span> <span class=\"toctext\">List of Wikipedias</span></a>\\n<ul>\\n<li class=\"toclevel-2 tocsection-2\"><a href=\"#1,000,000+_articles\"><span class=\"tocnumber\">1.1</span> <span class=\"toctext\">1,000,000+ articles</span></a></li>\\n<li class=\"toclevel-2 tocsection-3\"><a href=\"#100,000+_articles\"><span class=\"tocnumber\">1.2</span> <span class=\"toctext\">100,000+ articles</span></a></li>\\n<li class=\"toclevel-2 tocsection-4\"><a href=\"#10,000+_articles\"><span class=\"tocnumber\">1.3</span> <span class=\"toctext\">10,000+ articles</span></a></li>\\n<li class=\"toclevel-2 tocsection-5\"><a href=\"#1,000+_articles\"><span class=\"tocnumber\">1.4</span> <span class=\"toctext\">1,000+ articles</span></a></li>\\n<li class=\"toclevel-2 tocsection-6\"><a href=\"#100+_articles\"><span class=\"tocnumber\">1.5</span> <span class=\"toctext\">100+ articles</span></a></li>\\n<li class=\"toclevel-2 tocsection-7\"><a href=\"#10+_or_above_articles\"><span class=\"tocnumber\">1.6</span> <span class=\"toctext\">10+ or above articles</span></a></li>\\n</ul>\\n</li>\\n</ul>\\n</div>\\n\\n<h2><span class=\"mw-headline\" id=\"List_of_Wikipedias\">List of Wikipedias</span><span class=\"mw-editsection\"><span class=\"mw-editsection-bracket\">[</span><a href=\"/w/index.php?title=Wikip%C3%A9dia&amp;action=edit&amp;section=1\" title=\"Edita parte List of Wikipedias pájina nian\">edita</a><span class=\"mw-editsection-bracket\">]</span></span></h2>\\n<h3><span id=\"1.2C000.2C000.2B_articles\"></span><span class=\"mw-headline\" id=\"1,000,000+_articles\">1,000,000+ articles</span><span class=\"mw-editsection\"><span class=\"mw-editsection-bracket\">[</span><a href=\"/w/index.php?title=Wikip%C3%A9dia&amp;action=edit&amp;section=2\" title=\"Edita parte 1,000,000+ articles pájina nian\">edita</a><span class=\"mw-editsection-bracket\">]</span></span></h3>\\n<p>العربية • Deutsch • English • Español • Français • Polski • Italiano • Nederlands • ガンからジョー • Português • Русский • Sinugboanong Binisaya • Svenska • Українська • Việt / 越南語 • Winaray • 中文\\n</p>\\n<h3><span id=\"100.2C000.2B_articles\"></span><span class=\"mw-headline\" id=\"100,000+_articles\">100,000+ articles</span><span class=\"mw-editsection\"><span class=\"mw-editsection-bracket\">[</span><a href=\"/w/index.php?title=Wikip%C3%A9dia&amp;action=edit&amp;section=3\" title=\"Edita parte 100,000+ articles pájina nian\">edita</a><span class=\"mw-editsection-bracket\">]</span></span></h3>\\n<p>Afrikaans • Shqip • Armãneashce • Azərbaycanca / Азәрбајҹан / آذربایجان دیلی • Asturianu • Български • Bân-lâm-gú / Hō-ló-oē / 闽南语 • Беларуская (Акадэмічная) • Català • Нохчийн • Česky • Dansk • Eesti • Ελληνικά • Esperanto • Euskara • فارسی • Filipino • Galego • Հայերեն • မြန်မာဘာသာ • देवनागरी और हाउस • Hrvatski • Indonesia • עברית • Latina • Latviešu • Lietuvių • Lumbaart • Македонски • Malagasy • Magyar • Melayu / بهاس ملايو • Minangkabau • Norsk (bokmål • nynorsk) • Nnapulitano • Occitan • Oʻzbekcha / Ўзбекча / اوزبیکچه • Қазақша / Qazaqşa / قازاقشا • Română • Cymraeg • Simple English • Slovenčina • Slovenščina • Српски / Srpski • Srpskohrvatski / Српскохрватски • Suomi • Tagalog / ᜊᜌ᜔ᜊᜌᜒᜈ᜔ • தமிழ் • Татарча / Tatarça • Тоҷикӣ / تاجیکی / Tojikī • تۆرکجه • Türkçe • اردو • Volapük • ภาษาไทย • Ślůnski • Zazaki • 한국어 • ქართული\\n</p>\\n<h3><span id=\"10.2C000.2B_articles\"></span><span class=\"mw-headline\" id=\"10,000+_articles\">10,000+ articles</span><span class=\"mw-editsection\"><span class=\"mw-editsection-bracket\">[</span><a href=\"/w/index.php?title=Wikip%C3%A9dia&amp;action=edit&amp;section=4\" title=\"Edita parte 10,000+ articles pájina nian\">edita</a><span class=\"mw-editsection-bracket\">]</span></span></h3>\\n<p>Acèh / بهسا اچيه • Alemannisch • አማርኛ • Aragonés • Kreyòl Ayisyen • বাংলা • Banyumasan • Башҡортса • Беларуская (Тарашкевіца) • भोजपुरी • Bikol Central • Boarisch • Bosanski • Brezhoneg • Буряад • Чӑвашла • Chavacano de Zamboanga • Corsu • Diné Bizaad • Emigliàn–Rumagnòl • Fiji Hindi / फ़िजी बात • Føroyskt • Frysk • Gaeilge • Gàidhlig • ગુજરાતી • Hak-kâ-fa / 客家話 • Hmoob • Hornjoserbsce • Ido • Ilokano • ইমার ঠার/বিষ্ণুপ্রিয়া মণিপুরী • Interlingua • Иронау • Íslenska • Jawa / ꦧꦱꦗꦮ • Kapampangan • ಕನ್ನಡ • Kurdî / كوردی • • کوردیی ناوەندی Кыргызча / qırğızça / اوزبیکچه • Мары • Kotava • Lëtzebuergesch • Limburgs • Malti • मैथिली • 古文 / 文言文 • മലയാളം • मराठी • مصرى • / Mäzeruni مازِرونی • მარგალური • Mìng-dĕ̤ng-ngṳ̄ / 閩東語 • Монгол • Молдовеняскэ • Nāhuatlahtōlli • नेपाल भाषा • नेपाली • Nordfriisk • Марий • ଓଡି଼ଆ • ਪੰਜਾਬੀ (ਗੁਰਮੁਖੀ) • پښتو • Piemontèis • Plattdüütsch • Ripoarisch • Runa Simi • संस्कृतम् • Саха Тыла • شاہ مکھی پنجابی (شاہ مکھی) • Scots • Sesotho sa Leboa • Сибирской говор • Sicilianu • سنڌي / सिनधि • Melayu sareng Buku / ᮘᮞ ᮞᮥᮔ᮪ᮓ • Kiswahili • Tarandíne • བོད་ཡིག • తెలుగు • Türkmençe / түркмен / تۆرکمنچه\\u200e • ᨅᨔ ᨕᨙᨁᨗ / Basa Ugi • Vèneto • Walon • 吳語 • ייִדיש • Yorùbá • Žemaitėška • 粵語 / 粤语 • ភាសាខ្មែរ • සිංහල\\n</p>\\n<h3><span id=\"1.2C000.2B_articles\"></span><span class=\"mw-headline\" id=\"1,000+_articles\">1,000+ articles</span><span class=\"mw-editsection\"><span class=\"mw-editsection-bracket\">[</span><a href=\"/w/index.php?title=Wikip%C3%A9dia&amp;action=edit&amp;section=5\" title=\"Edita parte 1,000+ articles pájina nian\">edita</a><span class=\"mw-editsection-bracket\">]</span></span></h3>\\n<p>Адыгэбзэ • Аҧсуа • արեւմտահայերէն • अंगिका • Arpitan • ܐܬܘܪܝܐ • asụsụ bekee maọbụ asụsụ oyibo • Atikamekw • Avañe’ẽ • Авар • अवधी • Aymar • Ænglisc • Bali / ᬩᬲᬩᬮᬶ • Banjar • Bislama • црногорски / crnogorski • Vahcuengh / Vaƅcueŋƅ / 話僮 • Deitsch • Dolnoserbski • डोटेली • Эрзянь • Estremeñu • Ἑλληνική ἀρχαία • Eʋegbe • Furlan • Viti • Gaelg • Gagauz • Gĩkũyũ • گیلکی • 贛語 • ГӀалгӀай мотт • गोंयची कोंकणी / Gõychi Konknni • gwiyannen • Хальмг • Hausa / هَوُسَا • ʻŌlelo Hawaiʻi • Hulontalo • Interlingue • Iñupiak • Kalaallisut • كشميري • Kaszëbsczi • Kabɩyɛ • Kernuack / Kernewek / Kernewek / Kernowek • کهووار • Kinyarwanda • Kinaray-a • K’iche’ • Koyraboro Senni • Коми • Kongo • Krio • Dzhudezmo / לאדינו • Лакку • لکی • Ladin • Latgaļu • ພາສາລາວ • Лезги • Líguru • Lingála • līvõ kēļ • Livvinkarjala • Lingua franca nova • lojban • لۊری شومالی • Luganda • Saro Mandailing • Maaya t\\'aan • Reo Mā’ohi • Māori • ꯃꯩꯇꯩꯂꯣꯟ • Mirandés • Мокшень • Naoero • isiNdebele saseNyakatho • Nedersaksisch • Normaund / Nouormand / Normand • Novial • Oromoo • অসমীযা় • पाऴि • Pangasinán • Pangcah / 阿美族 • Papiamentu • Patois • Перем Коми • Pfälzisch • Picard • Къарачай–Малкъар • Qaraqalpaqsha • Qırımtatarca • Rumantsch • Runyankore • Русиньскый Язык • سرائیکی • Sakizaya / 撒奇莱雅 • Sámegiella • Sāmoa • ᱥᱟᱱᱛᱟᱲᱤ • Sardu • Seeltersk • ChiShona • Soomaaliga • Sranantongo • kerol seselwa • ၵႂၢမ်းတႆးယႂ် • Taqbaylit • Tayal / 泰雅 • Толыши • Tetun • Tok Pisin • faka Tonga • ತುಳು • chiTumbuka • Tsėhesenėstsestotse • ᏣᎳᎩ • Тыва дыл • Удмурт • Uyghur / ئۇيغۇرچه • Võro • Vepsän • West-Vlams • Wolof • Хакас • isiXhosa • Zeêuws • isiZulu • ދިވެހި\\n</p>\\n<h3><span id=\"100.2B_articles\"></span><span class=\"mw-headline\" id=\"100+_articles\">100+ articles</span><span class=\"mw-editsection\"><span class=\"mw-editsection-bracket\">[</span><a href=\"/w/index.php?title=Wikip%C3%A9dia&amp;action=edit&amp;section=6\" title=\"Edita parte 100+ articles pájina nian\">edita</a><span class=\"mw-editsection-bracket\">]</span></span></h3>\\n<p>Acholi • Akan • Адыгэбзэ • Langue des Signes Américaine • Bamanankan • Ichibemba • Bewtai • ဘာသာ မန် • Chamoru • Ciluba • Chichewa • Dusun Bundu-liwan • Fulfulde / 𞤆𞤵𞤤𞤢𞤪 • Gã • ᐃᓄᒃᑎᑐᑦ / Inuktitut • jysk • Lazuri • Lingít • Lozi • Lwo • Maarrênga\\'twich • ᠮᠠᠨᠵᡠ ᡤᡳᠰᡠᠨ • kreol morisien • isiNdebele seSewula • Ñhähñu • Nēhiyawēwin / Nehithawewin / Nehinawewin / ᓀᐦᐃᔭᐍᐏᐣ • Nigerian Pidgin • Ko e vagahau Niuē • Norfuk / Pitkern • ߒߞߏ • Ποντιακά • Prūsiskan • Toba Qom • къумукъ тил • རྫོང་ཁ • Romani • Kirundi • Sängö • Ganda ke Lava • Setswana • Словѣ́ньскъ / ⰔⰎⰑⰂⰡⰐⰠⰔⰍⰟ • SiSwati • Chaouïa • ⵜⴰⵎⴰⵣⵉⵖⵜ • Thuɔŋjäŋ • ትግርኛ • Xitsonga • Tshivenḓa • Twi • Vaďďa • Yugtun • 𐌲𐌿𐍄𐌹𐍃𐌺\\n</p>\\n<h3><span id=\"10.2B_or_above_articles\"></span><span class=\"mw-headline\" id=\"10+_or_above_articles\">10+ or above articles</span><span class=\"mw-editsection\"><span class=\"mw-editsection-bracket\">[</span><a href=\"/w/index.php?title=Wikip%C3%A9dia&amp;action=edit&amp;section=7\" title=\"Edita parte 10+ or above articles pájina nian\">edita</a><span class=\"mw-editsection-bracket\">]</span></span></h3>\\n<p>Afar • Choctaw • Ebon • Hiri Motu • Kanuri • Kuanyama • Muskogee • Oshiwambo • Otsiherero • tlhIngan Hol / \\uf8e4\\uf8d7\\uf8dc\\uf8d0\\uf8db \\uf8d6\\uf8dd\\uf8d9 • tokipona • ꆇꉙ\\n</p>\\n<!-- \\nNewPP limit report\\nParsed by mw1403\\nCached time: 20200317025519\\nCache expiry: 2592000\\nDynamic content: false\\nComplications: []\\nCPU time usage: 0.012 seconds\\nReal time usage: 0.016 seconds\\nPreprocessor visited node count: 22/1000000\\nPost‐expand include size: 0/2097152 bytes\\nTemplate argument size: 0/2097152 bytes\\nHighest expansion depth: 2/40\\nExpensive parser function count: 0/500\\nUnstrip recursion depth: 0/20\\nUnstrip post‐expand size: 0/5000000 bytes\\nNumber of Wikibase entities loaded: 0/400\\n-->\\n<!--\\nTransclusion expansion time report (%,ms,calls,template)\\n100.00%    0.000      1 -total\\n-->\\n\\n<!-- Saved in parser cache with key tetwiki:pcache:idhash:2280-0!canonical and timestamp 20200317025519 and revision id 63287\\n -->\\n</div>')"
      ]
     },
     "execution_count": 71,
     "metadata": {},
     "output_type": "execute_result"
    }
   ],
   "source": [
    "download_page_data(p_links[0], 'tet', 60)"
   ]
  },
  {
   "cell_type": "code",
   "execution_count": 14,
   "metadata": {},
   "outputs": [],
   "source": [
    "#_download_langlinks(\"microsoft\", 'en', 60)"
   ]
  },
  {
   "cell_type": "code",
   "execution_count": 15,
   "metadata": {},
   "outputs": [],
   "source": [
    "import re"
   ]
  },
  {
   "cell_type": "code",
   "execution_count": 18,
   "metadata": {},
   "outputs": [],
   "source": [
    "p_href, p_title, p_id, p_html = _download_page_data('mqtt', 'en', 60)"
   ]
  },
  {
   "cell_type": "code",
   "execution_count": 59,
   "metadata": {},
   "outputs": [],
   "source": [
    "res = re.findall('href=\"/wiki/([^\"]+)\"', p_html, re.IGNORECASE)"
   ]
  },
  {
   "cell_type": "code",
   "execution_count": 60,
   "metadata": {},
   "outputs": [
    {
     "data": {
      "text/plain": [
       "['OASIS_(organization)',\n",
       " 'Internet_protocol_suite',\n",
       " 'Application_layer',\n",
       " 'Border_Gateway_Protocol',\n",
       " 'Dynamic_Host_Configuration_Protocol',\n",
       " 'Domain_Name_System',\n",
       " 'File_Transfer_Protocol',\n",
       " 'Hypertext_Transfer_Protocol',\n",
       " 'HTTPS',\n",
       " 'Internet_Message_Access_Protocol',\n",
       " 'Lightweight_Directory_Access_Protocol',\n",
       " 'Media_Gateway_Control_Protocol',\n",
       " 'Network_News_Transfer_Protocol',\n",
       " 'Network_Time_Protocol',\n",
       " 'Post_Office_Protocol',\n",
       " 'Open_Network_Computing_Remote_Procedure_Call',\n",
       " 'Real-time_Transport_Protocol',\n",
       " 'Real_Time_Streaming_Protocol',\n",
       " 'Routing_Information_Protocol',\n",
       " 'Session_Initiation_Protocol',\n",
       " 'Simple_Mail_Transfer_Protocol',\n",
       " 'Simple_Network_Management_Protocol',\n",
       " 'Secure_Shell',\n",
       " 'Telnet',\n",
       " 'Transport_Layer_Security',\n",
       " 'XMPP',\n",
       " 'Category:Application_layer_protocols',\n",
       " 'Transport_layer',\n",
       " 'Transmission_Control_Protocol',\n",
       " 'User_Datagram_Protocol',\n",
       " 'Datagram_Congestion_Control_Protocol',\n",
       " 'Stream_Control_Transmission_Protocol',\n",
       " 'Resource_Reservation_Protocol',\n",
       " 'Category:Transport_layer_protocols',\n",
       " 'Internet_layer',\n",
       " 'Internet_Protocol',\n",
       " 'IPv4',\n",
       " 'IPv6',\n",
       " 'Internet_Control_Message_Protocol',\n",
       " 'Internet_Control_Message_Protocol_for_IPv6',\n",
       " 'Explicit_Congestion_Notification',\n",
       " 'Internet_Group_Management_Protocol',\n",
       " 'IPsec',\n",
       " 'Category:Internet_layer_protocols',\n",
       " 'Link_layer',\n",
       " 'Address_Resolution_Protocol',\n",
       " 'Neighbor_Discovery_Protocol',\n",
       " 'Open_Shortest_Path_First',\n",
       " 'Tunneling_protocol',\n",
       " 'Layer_2_Tunneling_Protocol',\n",
       " 'Point-to-Point_Protocol',\n",
       " 'Medium_access_control',\n",
       " 'Ethernet',\n",
       " 'Wi-Fi',\n",
       " 'Digital_subscriber_line',\n",
       " 'Integrated_Services_Digital_Network',\n",
       " 'Fiber_Distributed_Data_Interface',\n",
       " 'Category:Link_protocols',\n",
       " 'Template:IPstack',\n",
       " 'Template_talk:IPstack',\n",
       " 'Organization_for_the_Advancement_of_Structured_Information_Standards',\n",
       " 'International_Organization_for_Standardization',\n",
       " 'Publish%E2%80%93subscribe_pattern',\n",
       " 'TCP/IP',\n",
       " 'Andy_Stanford-Clark',\n",
       " 'IBM',\n",
       " 'OASIS_(organization)',\n",
       " 'Zigbee',\n",
       " 'IBM_MQ',\n",
       " 'Message_broker',\n",
       " 'Transport_Layer_Security',\n",
       " 'File:MQTT_protocol_example_without_QoS.svg',\n",
       " 'File:MQTT_protocol_example_without_QoS.svg',\n",
       " 'TCP/IP',\n",
       " 'Quality_of_service',\n",
       " 'Facebook_Messenger',\n",
       " 'Online_chat',\n",
       " 'Integrated_Electronic_Control_Centre',\n",
       " 'DeltaRail',\n",
       " 'European_Committee_for_Electrotechnical_Standardization',\n",
       " 'Amazon_Web_Services',\n",
       " 'Open_Geospatial_Consortium',\n",
       " 'SensorThings_API',\n",
       " 'OpenStack',\n",
       " 'Adafruit',\n",
       " 'Cloud_service',\n",
       " 'Cloud_service',\n",
       " 'Microsoft_Azure',\n",
       " 'Telemetry',\n",
       " 'XIM,_Inc.',\n",
       " 'Android_(operating_system)',\n",
       " 'IOS',\n",
       " 'F-Droid',\n",
       " 'Node-RED',\n",
       " 'Transport_Layer_Security',\n",
       " 'Open-source_software',\n",
       " 'Home_automation',\n",
       " 'Raspberry_Pi',\n",
       " 'Node.js',\n",
       " 'Ejabberd',\n",
       " 'Comparison_of_MQTT_implementations',\n",
       " 'Apache_ActiveMQ',\n",
       " 'RabbitMQ',\n",
       " 'Advanced_Message_Queuing_Protocol',\n",
       " 'Streaming_Text_Oriented_Messaging_Protocol',\n",
       " 'Constrained_Application_Protocol',\n",
       " 'Extensible_Messaging_and_Presence_Protocol',\n",
       " 'OASIS_(organization)',\n",
       " 'International_Organization_for_Standardization',\n",
       " 'Andy_Stanford-Clark',\n",
       " 'IBM',\n",
       " 'VMware',\n",
       " 'Facebook',\n",
       " 'Institution_of_Railway_Signal_Engineers',\n",
       " 'Amazon_Web_Services',\n",
       " 'Amazon_Web_Services',\n",
       " 'OpenStack',\n",
       " 'Adafruit_Industries',\n",
       " 'Adafruit',\n",
       " 'Microsoft',\n",
       " 'XIM,_Inc.',\n",
       " 'XIM,_Inc.',\n",
       " 'Wikipedia:Link_rot',\n",
       " 'Help:Authority_control',\n",
       " 'Integrated_Authority_File']"
      ]
     },
     "execution_count": 60,
     "metadata": {},
     "output_type": "execute_result"
    }
   ],
   "source": [
    "res"
   ]
  },
  {
   "cell_type": "code",
   "execution_count": 62,
   "metadata": {},
   "outputs": [
    {
     "data": {
      "text/plain": [
       "('Integrated_Authority_File',\n",
       " 'Integrated Authority File',\n",
       " 35566739,\n",
       " '<div class=\"mw-parser-output\"><table class=\"box-Update plainlinks metadata ambox ambox-content ambox-Update\" role=\"presentation\"><tbody><tr><td class=\"mbox-image\"><div style=\"width:52px\"><img alt=\"Ambox current red.svg\" src=\"//upload.wikimedia.org/wikipedia/commons/thumb/9/98/Ambox_current_red.svg/42px-Ambox_current_red.svg.png\" decoding=\"async\" width=\"42\" height=\"34\" srcset=\"//upload.wikimedia.org/wikipedia/commons/thumb/9/98/Ambox_current_red.svg/63px-Ambox_current_red.svg.png 1.5x, //upload.wikimedia.org/wikipedia/commons/thumb/9/98/Ambox_current_red.svg/84px-Ambox_current_red.svg.png 2x\" data-file-width=\"360\" data-file-height=\"290\" /></div></td><td class=\"mbox-text\"><div class=\"mbox-text-span\">Parts of this article (those related to Types of GND high-level entities) need to be <b>updated</b>.<span class=\"hide-when-compact\"> Please update this article to reflect recent events or newly available information.</span>  <small class=\"date-container\"><i>(<span class=\"date\">February 2018</span>)</i></small></div></td></tr></tbody></table>\\n<table class=\"infobox\" style=\"width:22em\"><caption>Integrated Authority File</caption><tbody><tr><td colspan=\"2\" style=\"text-align:center\"><a href=\"/wiki/File:Gemeinsame_Normdatei_2012_Opera.png\" class=\"image\"><img alt=\"Gemeinsame Normdatei 2012 Opera.png\" src=\"//upload.wikimedia.org/wikipedia/commons/thumb/7/71/Gemeinsame_Normdatei_2012_Opera.png/200px-Gemeinsame_Normdatei_2012_Opera.png\" decoding=\"async\" width=\"200\" height=\"138\" class=\"thumbborder\" srcset=\"//upload.wikimedia.org/wikipedia/commons/thumb/7/71/Gemeinsame_Normdatei_2012_Opera.png/300px-Gemeinsame_Normdatei_2012_Opera.png 1.5x, //upload.wikimedia.org/wikipedia/commons/thumb/7/71/Gemeinsame_Normdatei_2012_Opera.png/400px-Gemeinsame_Normdatei_2012_Opera.png 2x\" data-file-width=\"740\" data-file-height=\"510\" /></a><div>GND: Screenshot of the<br /><a href=\"/wiki/German_National_Library\" title=\"German National Library\">German National Library</a><br />(<a href=\"/wiki/Opera_(web_browser)\" title=\"Opera (web browser)\">Browser: Opera 11.62</a>).</div></td></tr><tr><th scope=\"row\" style=\"width:6.5em;\">Acronym</th><td>GND</td></tr><tr><th scope=\"row\" style=\"width:6.5em;\">Organisation</th><td><a href=\"/wiki/German_National_Library\" title=\"German National Library\">DNB</a></td></tr><tr><th scope=\"row\" style=\"width:6.5em;\">Introduced</th><td>5&#160;April&#160;2012<span style=\"display:none\">&#160;(<span class=\"bday dtstart published updated\">2012-04-05</span>)</span></td></tr><tr><th scope=\"row\" style=\"width:6.5em;\">Example</th><td><a rel=\"nofollow\" class=\"external text\" href=\"http://d-nb.info/gnd/7749153-1\">7749153-1</a></td></tr><tr><th scope=\"row\" style=\"width:6.5em;\">Website</th><td><span class=\"url\"><a rel=\"nofollow\" class=\"external text\" href=\"https://www.dnb.de/EN/Professionell/Standardisierung/GND/gnd_node.html\">www<wbr />.dnb<wbr />.de<wbr />/EN<wbr />/Professionell<wbr />/Standardisierung<wbr />/GND<wbr />/gnd<wbr />_node<wbr />.html</a></span> <a href=\"https://www.wikidata.org/wiki/Q36578#P856\" title=\"Edit this at Wikidata\"><img alt=\"Edit this at Wikidata\" src=\"//upload.wikimedia.org/wikipedia/en/thumb/8/8a/OOjs_UI_icon_edit-ltr-progressive.svg/10px-OOjs_UI_icon_edit-ltr-progressive.svg.png\" decoding=\"async\" width=\"10\" height=\"10\" style=\"vertical-align: text-top\" srcset=\"//upload.wikimedia.org/wikipedia/en/thumb/8/8a/OOjs_UI_icon_edit-ltr-progressive.svg/15px-OOjs_UI_icon_edit-ltr-progressive.svg.png 1.5x, //upload.wikimedia.org/wikipedia/en/thumb/8/8a/OOjs_UI_icon_edit-ltr-progressive.svg/20px-OOjs_UI_icon_edit-ltr-progressive.svg.png 2x\" data-file-width=\"20\" data-file-height=\"20\" /></a></td></tr></tbody></table>\\n<p>The <b>Integrated Authority File</b> (<a href=\"/wiki/German_language\" title=\"German language\">German</a>: <i lang=\"de\">Gemeinsame Normdatei</i>; also known as the <i>Universal Authority File</i>) or <b>GND</b> is an international <a href=\"/wiki/Authority_file\" class=\"mw-redirect\" title=\"Authority file\">authority file</a> for the organisation of personal names, subject headings and corporate bodies from <a href=\"/wiki/Library_catalog\" title=\"Library catalog\">catalogues</a>. It is used mainly for <a href=\"/wiki/Documentation\" title=\"Documentation\">documentation</a> in <a href=\"/wiki/Library\" title=\"Library\">libraries</a> and increasingly also by <a href=\"/wiki/Archive\" title=\"Archive\">archives</a> and <a href=\"/wiki/Museum\" title=\"Museum\">museums</a>. The GND is managed by the <a href=\"/wiki/German_National_Library\" title=\"German National Library\">German National Library</a> (German: <i lang=\"de\">Deutsche Nationalbibliothek</i>; DNB) in cooperation with various regional library networks in <a href=\"/wiki/German-speaking_Europe\" class=\"mw-redirect\" title=\"German-speaking Europe\">German-speaking Europe</a> and other partners. The GND falls under the <a href=\"/wiki/CC0\" class=\"mw-redirect\" title=\"CC0\">Creative Commons Zero</a> (CC0) licence.<sup id=\"cite_ref-1\" class=\"reference\"><a href=\"#cite_note-1\">&#91;1&#93;</a></sup>\\n</p><p>The GND specification provides a hierarchy of high-level entities and sub-classes, useful in <a href=\"/wiki/Library_classification\" title=\"Library classification\">library classification</a>, and an approach to unambiguous identification of single elements. It also comprises an <a href=\"/wiki/Ontology_(computer_science)\" class=\"mw-redirect\" title=\"Ontology (computer science)\">ontology</a> intended for <a href=\"/wiki/Knowledge_representation\" class=\"mw-redirect\" title=\"Knowledge representation\">knowledge representation</a> in the <a href=\"/wiki/Semantic_web\" class=\"mw-redirect\" title=\"Semantic web\">semantic web</a>, available in the <a href=\"/wiki/Resource_Description_Framework\" title=\"Resource Description Framework\">RDF</a> format.<sup id=\"cite_ref-2\" class=\"reference\"><a href=\"#cite_note-2\">&#91;2&#93;</a></sup>\\n</p><p>The Integrated Authority File became operational in April 2012 and integrates the content of the following authority files, which have since been discontinued:\\n</p>\\n<ul><li><a href=\"/wiki/Name_Authority_File\" title=\"Name Authority File\">Name Authority File</a> (German: <i lang=\"de\">Personennamendatei</i>; PND)</li>\\n<li><a href=\"/wiki/Corporate_Bodies_Authority_File\" title=\"Corporate Bodies Authority File\">Corporate Bodies Authority File</a> (German: <i lang=\"de\">Gemeinsame Körperschaftsdatei</i>; GKD)</li>\\n<li><a href=\"/wiki/Subject_Headings_Authority_File\" title=\"Subject Headings Authority File\">Subject Headings Authority File</a> (German: <i lang=\"de\">Schlagwortnormdatei</i>; SWD)</li>\\n<li>Uniform Title File of the Deutsches Musikarchiv (German: <i lang=\"de\">Einheitssachtitel-Datei des Deutschen Musikarchivs</i>; DMA-EST)</li></ul>\\n<p>At the time of its introduction on 5 April 2012, the GND held 9,493,860 files, including 2,650,000 personalised names.\\n</p>\\n<div id=\"toc\" class=\"toc\" role=\"navigation\" aria-labelledby=\"mw-toc-heading\"><input type=\"checkbox\" role=\"button\" id=\"toctogglecheckbox\" class=\"toctogglecheckbox\" style=\"display:none\" /><div class=\"toctitle\" lang=\"en\" dir=\"ltr\"><h2 id=\"mw-toc-heading\">Contents</h2><span class=\"toctogglespan\"><label class=\"toctogglelabel\" for=\"toctogglecheckbox\"></label></span></div>\\n<ul>\\n<li class=\"toclevel-1 tocsection-1\"><a href=\"#Types_of_GND_high-level_entities\"><span class=\"tocnumber\">1</span> <span class=\"toctext\">Types of GND high-level entities</span></a></li>\\n<li class=\"toclevel-1 tocsection-2\"><a href=\"#See_also\"><span class=\"tocnumber\">2</span> <span class=\"toctext\">See also</span></a></li>\\n<li class=\"toclevel-1 tocsection-3\"><a href=\"#References\"><span class=\"tocnumber\">3</span> <span class=\"toctext\">References</span></a></li>\\n<li class=\"toclevel-1 tocsection-4\"><a href=\"#External_links\"><span class=\"tocnumber\">4</span> <span class=\"toctext\">External links</span></a></li>\\n</ul>\\n</div>\\n\\n<h2><span class=\"mw-headline\" id=\"Types_of_GND_high-level_entities\">Types of GND high-level entities</span><span class=\"mw-editsection\"><span class=\"mw-editsection-bracket\">[</span><a href=\"/w/index.php?title=Integrated_Authority_File&amp;action=edit&amp;section=1\" title=\"Edit section: Types of GND high-level entities\">edit</a><span class=\"mw-editsection-bracket\">]</span></span></h2>\\n<p>There are seven main types of GND entities:<sup id=\"cite_ref-3\" class=\"reference\"><a href=\"#cite_note-3\">&#91;3&#93;</a></sup>\\n</p>\\n<table class=\"wikitable\">\\n\\n<tbody><tr>\\n<th>Typ</th>\\n<th>German (official)</th>\\n<th>English (translation)\\n</th></tr>\\n<tr class=\"hintergrundfarbe5\">\\n<td><b>p</b></td>\\n<td>Person (<i lang=\"de\" title=\"German language text\">individualisiert</i>)</td>\\n<td>person (individualised)\\n</td></tr>\\n<tr class=\"hintergrundfarbe5\">\\n<td><b>n</b></td>\\n<td>Name (<i lang=\"de\" title=\"German language text\">nicht individualisiert</i>)</td>\\n<td>name (not individualised)\\n</td></tr>\\n<tr>\\n<td><b>k</b></td>\\n<td><i lang=\"de\" title=\"German language text\">Körperschaft</i></td>\\n<td>corporate body\\n</td></tr>\\n<tr>\\n<td><b>v</b></td>\\n<td><i lang=\"de\" title=\"German language text\">Veranstaltung</i></td>\\n<td>event\\n</td></tr>\\n<tr>\\n<td><b>w</b></td>\\n<td><i lang=\"de\" title=\"German language text\">Werk</i></td>\\n<td>work\\n</td></tr>\\n<tr>\\n<td><b>s</b></td>\\n<td><i lang=\"de\" title=\"German language text\">Sachbegriff</i></td>\\n<td>topical term\\n</td></tr>\\n<tr>\\n<td><b>g</b></td>\\n<td><i lang=\"de\" title=\"German language text\">Geografikum</i></td>\\n<td>geographical place name\\n</td></tr></tbody></table>\\n<h2><span class=\"mw-headline\" id=\"See_also\">See also</span><span class=\"mw-editsection\"><span class=\"mw-editsection-bracket\">[</span><a href=\"/w/index.php?title=Integrated_Authority_File&amp;action=edit&amp;section=2\" title=\"Edit section: See also\">edit</a><span class=\"mw-editsection-bracket\">]</span></span></h2>\\n<ul><li><a href=\"/wiki/LIBRIS\" title=\"LIBRIS\">LIBRIS</a></li>\\n<li><a href=\"/wiki/Virtual_International_Authority_File\" title=\"Virtual International Authority File\">Virtual International Authority File</a></li></ul>\\n<h2><span class=\"mw-headline\" id=\"References\">References</span><span class=\"mw-editsection\"><span class=\"mw-editsection-bracket\">[</span><a href=\"/w/index.php?title=Integrated_Authority_File&amp;action=edit&amp;section=3\" title=\"Edit section: References\">edit</a><span class=\"mw-editsection-bracket\">]</span></span></h2>\\n<div class=\"reflist\" style=\"list-style-type: decimal;\">\\n<div class=\"mw-references-wrap\"><ol class=\"references\">\\n<li id=\"cite_note-1\"><span class=\"mw-cite-backlink\"><b><a href=\"#cite_ref-1\">^</a></b></span> <span class=\"reference-text\"><span class=\"url\"><a rel=\"nofollow\" class=\"external text\" href=\"https://www.dnb.de/EN/Professionell/Standardisierung/GND/gnd_node.html\">www<wbr />.dnb<wbr />.de<wbr />/EN<wbr />/Professionell<wbr />/Standardisierung<wbr />/GND<wbr />/gnd<wbr />_node<wbr />.html</a></span> <a href=\"https://www.wikidata.org/wiki/Q36578#P856\" title=\"Edit this at Wikidata\"><img alt=\"Edit this at Wikidata\" src=\"//upload.wikimedia.org/wikipedia/en/thumb/8/8a/OOjs_UI_icon_edit-ltr-progressive.svg/10px-OOjs_UI_icon_edit-ltr-progressive.svg.png\" decoding=\"async\" width=\"10\" height=\"10\" style=\"vertical-align: text-top\" srcset=\"//upload.wikimedia.org/wikipedia/en/thumb/8/8a/OOjs_UI_icon_edit-ltr-progressive.svg/15px-OOjs_UI_icon_edit-ltr-progressive.svg.png 1.5x, //upload.wikimedia.org/wikipedia/en/thumb/8/8a/OOjs_UI_icon_edit-ltr-progressive.svg/20px-OOjs_UI_icon_edit-ltr-progressive.svg.png 2x\" data-file-width=\"20\" data-file-height=\"20\" /></a> Integrated Authority File (GND)</span>\\n</li>\\n<li id=\"cite_note-2\"><span class=\"mw-cite-backlink\"><b><a href=\"#cite_ref-2\">^</a></b></span> <span class=\"reference-text\"><a rel=\"nofollow\" class=\"external text\" href=\"http://d-nb.info/standards/elementset/gnd\">GND Ontology – Namespace Document</a> <a rel=\"nofollow\" class=\"external text\" href=\"https://web.archive.org/web/20130103070757/http://d-nb.info/standards/elementset/gnd\">Archived</a> 2013-01-03 at the <a href=\"/wiki/Wayback_Machine\" title=\"Wayback Machine\">Wayback Machine</a>, version 2012-06-30.</span>\\n</li>\\n<li id=\"cite_note-3\"><span class=\"mw-cite-backlink\"><b><a href=\"#cite_ref-3\">^</a></b></span> <span class=\"reference-text\"><a rel=\"nofollow\" class=\"external text\" href=\"http://www.dnb.de/SharedDocs/Downloads/DE/DNB/standardisierung/entitaetencodierung.pdf?__blob=publicationFile\">Entitätencodierung: Vergaberichtlinien</a> (short lists – old and new versions)</span>\\n</li>\\n</ol></div></div>\\n<h2><span class=\"mw-headline\" id=\"External_links\">External links</span><span class=\"mw-editsection\"><span class=\"mw-editsection-bracket\">[</span><a href=\"/w/index.php?title=Integrated_Authority_File&amp;action=edit&amp;section=4\" title=\"Edit section: External links\">edit</a><span class=\"mw-editsection-bracket\">]</span></span></h2>\\n<table role=\"presentation\" class=\"mbox-small plainlinks sistersitebox\" style=\"background-color:#f9f9f9;border:1px solid #aaa;color:#000\">\\n<tbody><tr>\\n<td class=\"mbox-image\"><img alt=\"\" src=\"//upload.wikimedia.org/wikipedia/commons/thumb/f/ff/Wikidata-logo.svg/40px-Wikidata-logo.svg.png\" decoding=\"async\" width=\"40\" height=\"22\" class=\"noviewer\" srcset=\"//upload.wikimedia.org/wikipedia/commons/thumb/f/ff/Wikidata-logo.svg/60px-Wikidata-logo.svg.png 1.5x, //upload.wikimedia.org/wikipedia/commons/thumb/f/ff/Wikidata-logo.svg/80px-Wikidata-logo.svg.png 2x\" data-file-width=\"1050\" data-file-height=\"590\" /></td>\\n<td class=\"mbox-text plainlist\"><a href=\"/wiki/Wikidata\" title=\"Wikidata\">Wikidata</a> has the property: \\n<ul><li><img alt=\"Disc Plain blue dark.svg\" src=\"//upload.wikimedia.org/wikipedia/commons/thumb/a/a8/Disc_Plain_blue_dark.svg/4px-Disc_Plain_blue_dark.svg.png\" decoding=\"async\" width=\"4\" height=\"4\" style=\"vertical-align: middle\" srcset=\"//upload.wikimedia.org/wikipedia/commons/thumb/a/a8/Disc_Plain_blue_dark.svg/6px-Disc_Plain_blue_dark.svg.png 1.5x, //upload.wikimedia.org/wikipedia/commons/thumb/a/a8/Disc_Plain_blue_dark.svg/8px-Disc_Plain_blue_dark.svg.png 2x\" data-file-width=\"460\" data-file-height=\"460\" /> <b><i><a href=\"https://www.wikidata.org/wiki/Property_talk:P227\" class=\"extiw\" title=\"d:Property talk:P227\">GND ID (P227)</a></i></b> (see <span class=\"plainlinks\"><a class=\"external text\" href=\"https://query.wikidata.org/embed.html#SELECT%20%3FWikiData_item_%20%3FWikiData_item_Label%20%3Fvalue%20%3FvalueLabel%20%3FEnglish_WikiPedia_article%20%23Show%20data%20in%20this%20order%0A%7B%0A%09%3FWikiData_item_%20wdt%3AP227%20%3Fvalue%20.%20%23Collecting%20all%20items%20which%20have%20P227%20data%2C%20from%20whole%20WikiData%20item%20pages%0A%09OPTIONAL%20%7B%3FEnglish_WikiPedia_article%20schema%3Aabout%20%3FWikiData_item_%3B%20schema%3AisPartOf%20%3Chttps%3A%2F%2Fen.wikipedia.org%2F%3E%20.%7D%20%23If%20collected%20item%20has%20link%20to%20English%20WikiPedia%2C%20show%20that%0A%09SERVICE%20wikibase%3Alabel%20%7B%20bd%3AserviceParam%20wikibase%3Alanguage%20%22en%22%20%20%7D%20%23Show%20label%20in%20this%20language.%20%22en%22%20is%20English.%20%20%20%0A%7D%0ALIMIT%201000\">uses</a></span>)</li></ul></td></tr>\\n</tbody></table>\\n<ul><li><a rel=\"nofollow\" class=\"external text\" href=\"http://www.dnb.de/EN/gnd\">Information pages about the GND</a> from the German National Library</li>\\n<li><a rel=\"nofollow\" class=\"external text\" href=\"http://swb.bsz-bw.de/DB=2.104/SET=4/TTL=1/LNG=EN/START_WELCOME?retrace=0\">Search via OGND</a> (<i lang=\"de\" title=\"German language text\">Bibliotheksservice-Zentrum Baden-Württemberg</i>)</li>\\n<li><a rel=\"nofollow\" class=\"external text\" href=\"http://www.dnb.de/SharedDocs/Downloads/DE/DNB/service/rundschreibenBereitstellungGNDGrundbestand.pdf?__blob=publicationFile\">Bereitstellung des ersten GND-Grundbestandes</a> DNB, 19 April 2012</li>\\n<li><a rel=\"nofollow\" class=\"external text\" href=\"https://web.archive.org/web/20160303184551/http://connect.ala.org/files/ALA_MFIG_Heuvelmann.pdf\">From Authority Control to Linked Authority Data</a> Presentation given by Reinhold Heuvelmann (German National Library) to the ALA MARC Formats Interest Group, June 2012</li></ul>\\n<div role=\"navigation\" class=\"navbox authority-control-files\" aria-labelledby=\"Authority_control_files\" style=\"padding:3px\"><table class=\"nowraplinks hlist mw-collapsible mw-collapsed navbox-inner\" style=\"border-spacing:0;background:transparent;color:inherit\"><tbody><tr><th scope=\"col\" class=\"navbox-title\" colspan=\"2\"><div class=\"plainlinks hlist navbar mini\"><ul><li class=\"nv-view\"><a href=\"/wiki/Template:Authority_control_files\" title=\"Template:Authority control files\"><abbr title=\"View this template\" style=\";;background:none transparent;border:none;-moz-box-shadow:none;-webkit-box-shadow:none;box-shadow:none; padding:0;\">v</abbr></a></li><li class=\"nv-talk\"><a href=\"/wiki/Template_talk:Authority_control_files\" title=\"Template talk:Authority control files\"><abbr title=\"Discuss this template\" style=\";;background:none transparent;border:none;-moz-box-shadow:none;-webkit-box-shadow:none;box-shadow:none; padding:0;\">t</abbr></a></li><li class=\"nv-edit\"><a class=\"external text\" href=\"https://en.wikipedia.org/w/index.php?title=Template:Authority_control_files&amp;action=edit\"><abbr title=\"Edit this template\" style=\";;background:none transparent;border:none;-moz-box-shadow:none;-webkit-box-shadow:none;box-shadow:none; padding:0;\">e</abbr></a></li></ul></div><div id=\"Authority_control_files\" style=\"font-size:114%;margin:0 4em\"><a href=\"/wiki/Authority_control\" title=\"Authority control\">Authority control files</a></div></th></tr><tr><td colspan=\"2\" class=\"navbox-list navbox-odd\" style=\"width:100%;padding:0px\"><div style=\"padding:0em 0.25em\"><a href=\"/wiki/Auckland_Art_Gallery_Toi_o_T%C4%81maki\" title=\"Auckland Art Gallery Toi o Tāmaki\">AAG</a> • <a href=\"/wiki/ACM_Digital_Library\" class=\"mw-redirect\" title=\"ACM Digital Library\">ACM DL</a> • <a href=\"/wiki/Australian_Dictionary_of_Biography\" title=\"Australian Dictionary of Biography\">ADB</a> • <a href=\"/wiki/Art_Gallery_of_South_Australia\" title=\"Art Gallery of South Australia\">AGSA</a> • <a href=\"/wiki/Autores.uy\" title=\"Autores.uy\">autores.uy</a> • <a href=\"/wiki/Australian_Women%27s_Register\" title=\"Australian Women&#39;s Register\">AWR</a> • <a href=\"/wiki/Royal_Institute_for_Cultural_Heritage#Online_artworks_pages\" title=\"Royal Institute for Cultural Heritage\">BALaT</a> • <a href=\"/wiki/Bibsys\" title=\"Bibsys\">BIBSYS</a> • <a href=\"/wiki/Marburg_Picture_Index\" title=\"Marburg Picture Index\">Bildindex</a> • <a href=\"/wiki/Biblioteca_Nacional_de_Chile\" title=\"Biblioteca Nacional de Chile\">BNC</a> • <a href=\"/wiki/Biblioteca_Nacional_de_Espa%C3%B1a\" title=\"Biblioteca Nacional de España\">BNE</a> • <a href=\"/wiki/Biblioth%C3%A8que_nationale_de_France\" title=\"Bibliothèque nationale de France\">BNF</a> • <a href=\"/wiki/Author_citation_(botany)\" title=\"Author citation (botany)\">Botanist</a> • <a href=\"/wiki/Biografisch_Portaal\" title=\"Biografisch Portaal\">BPN</a> • <a href=\"/wiki/Name_and_Title_Authority_File_of_Catalonia\" title=\"Name and Title Authority File of Catalonia\">CANTIC</a> • <a href=\"/wiki/CiNii\" title=\"CiNii\">CiNii</a> • <a href=\"/wiki/Dictionary_of_Australian_Artists\" title=\"Dictionary of Australian Artists\">DAAO</a> • <a href=\"/wiki/DBLP\" title=\"DBLP\">DBLP</a> • <a href=\"/wiki/Stuttgart_Database_of_Scientific_Illustrators_1450%E2%80%931950\" title=\"Stuttgart Database of Scientific Illustrators 1450–1950\">DSI</a> • <a href=\"https://www.wikidata.org/wiki/Property:P6792\" class=\"extiw\" title=\"d:Property:P6792\">FNZA</a> • <a class=\"mw-selflink selflink\">GND</a> • <a href=\"/wiki/Historical_Dictionary_of_Switzerland\" title=\"Historical Dictionary of Switzerland\">HDS</a> • <a href=\"/wiki/World_Athletics\" title=\"World Athletics\">World Athletics</a> • <a href=\"/wiki/Information_Center_for_Israeli_Art\" title=\"Information Center for Israeli Art\">ICIA</a> • <a href=\"/wiki/International_Standard_Name_Identifier\" title=\"International Standard Name Identifier\">ISNI</a> • <a href=\"/wiki/Joconde\" title=\"Joconde\">Joconde</a> • <a href=\"/wiki/KulturNav\" title=\"KulturNav\">KulturNav</a> • <a href=\"/wiki/Library_of_Congress_Control_Number\" title=\"Library of Congress Control Number\">LCCN</a> • <a href=\"/wiki/Historical_Dictionary_of_Switzerland#Lexicon_Istoric_Retic\" title=\"Historical Dictionary of Switzerland\">LIR</a> • <a href=\"/wiki/National_Library_of_Latvia\" title=\"National Library of Latvia\">LNB</a> • <a href=\"/wiki/Base_L%C3%A9onore\" title=\"Base Léonore\">Léonore</a> • <a href=\"/wiki/MusicBrainz\" title=\"MusicBrainz\">MusicBrainz</a> • <a href=\"/wiki/Mathematics_Genealogy_Project\" title=\"Mathematics Genealogy Project\">MGP</a> • <a href=\"/wiki/National_Archives_and_Records_Administration\" title=\"National Archives and Records Administration\">NARA</a> • <a href=\"/wiki/National_Central_Library\" title=\"National Central Library\">NCL</a> • <a href=\"/wiki/National_Diet_Library\" title=\"National Diet Library\">NDL</a> • <a href=\"/wiki/National_Gallery_of_Victoria\" title=\"National Gallery of Victoria\">NGV</a> • <a href=\"/wiki/National_Library_of_the_Czech_Republic\" title=\"National Library of the Czech Republic\">NKC</a> • <a href=\"/wiki/National_Library_of_Australia\" title=\"National Library of Australia\">NLA</a> • <a href=\"/wiki/National_Library_of_Greece\" title=\"National Library of Greece\">NLG</a> • <a href=\"/wiki/National_Library_of_Israel\" title=\"National Library of Israel\">NLI</a> • <a href=\"/wiki/National_Library_of_Korea\" title=\"National Library of Korea\">NLK</a> • <a href=\"/wiki/National_Library_of_Poland\" title=\"National Library of Poland\">NLP</a> • <a href=\"/wiki/National_Library_of_Romania\" title=\"National Library of Romania\">NLR</a> • <a href=\"/wiki/National_and_University_Library_in_Zagreb\" title=\"National and University Library in Zagreb\">NSK</a> • <a href=\"/wiki/Royal_Library_of_the_Netherlands\" title=\"Royal Library of the Netherlands\">NTA</a> • <a href=\"/wiki/ORCID\" title=\"ORCID\">ORCID</a> • <a href=\"https://www.wikidata.org/wiki/Q23892012\" class=\"extiw\" title=\"d:Q23892012\">PIC</a> • <a href=\"/wiki/ResearcherID\" title=\"ResearcherID\">ResearcherID</a> • <a href=\"/wiki/RERO_(Library_Network_of_Western_Switzerland)\" title=\"RERO (Library Network of Western Switzerland)\">RERO</a> • <a href=\"/wiki/Netherlands_Institute_for_Art_History#Online_artist_pages\" title=\"Netherlands Institute for Art History\">RKD</a> • <a href=\"https://www.wikidata.org/wiki/Q17299580\" class=\"extiw\" title=\"d:Q17299580\">RKDimages ID</a> • <a href=\"/wiki/Russian_State_Library\" title=\"Russian State Library\">RSL</a> • <a href=\"/wiki/Istituto_Centrale_per_il_Catalogo_Unico\" title=\"Istituto Centrale per il Catalogo Unico\">ICCU</a> • <a href=\"/wiki/LIBRIS\" title=\"LIBRIS\">SELIBR</a> • <a href=\"/wiki/SIKART\" title=\"SIKART\">SIKART</a> • <a href=\"/wiki/SNAC\" title=\"SNAC\">SNAC</a> • <a href=\"/wiki/Syst%C3%A8me_universitaire_de_documentation\" title=\"Système universitaire de documentation\">SUDOC</a> • <a href=\"/wiki/Semantic_Scholar\" title=\"Semantic Scholar\">S2AuthorId</a> • <a href=\"/wiki/Terminologia_Anatomica\" title=\"Terminologia Anatomica\">TA98</a> • <a href=\"https://www.wikidata.org/wiki/Q21527102\" class=\"extiw\" title=\"d:Q21527102\">TDVİA</a> • <a href=\"/wiki/Terminologia_Embryologica\" title=\"Terminologia Embryologica\">TE</a> • <a href=\"/wiki/Museum_of_New_Zealand_Te_Papa_Tongarewa\" title=\"Museum of New Zealand Te Papa Tongarewa\">TePapa</a> • <a href=\"/wiki/Terminologia_Histologica\" title=\"Terminologia Histologica\">TH</a> • <a href=\"/wiki/Theaterlexikon_der_Schweiz\" title=\"Theaterlexikon der Schweiz\">TLS</a> • <a href=\"/wiki/Trove\" title=\"Trove\">Trove</a> • <a href=\"/wiki/Union_List_of_Artist_Names\" title=\"Union List of Artist Names\">ULAN</a> • <a href=\"/wiki/Biographical_Directory_of_the_United_States_Congress\" title=\"Biographical Directory of the United States Congress\">US Congress</a> • <a href=\"/wiki/Virtual_International_Authority_File\" title=\"Virtual International Authority File\">VIAF</a> • <a href=\"/wiki/WorldCat_Identities\" class=\"mw-redirect\" title=\"WorldCat Identities\">WorldCat Identities</a></div></td></tr></tbody></table></div>\\n<div role=\"navigation\" class=\"navbox authority-control\" aria-labelledby=\"Authority_control_frameless_&amp;#124;text-top_&amp;#124;10px_&amp;#124;alt=Edit_this_at_Wikidata_&amp;#124;link=https&amp;#58;//www.wikidata.org/wiki/Q36578&amp;#124;Edit_this_at_Wikidata\" style=\"padding:3px\"><table class=\"nowraplinks hlist navbox-inner\" style=\"border-spacing:0;background:transparent;color:inherit\"><tbody><tr><th id=\"Authority_control_frameless_&amp;#124;text-top_&amp;#124;10px_&amp;#124;alt=Edit_this_at_Wikidata_&amp;#124;link=https&amp;#58;//www.wikidata.org/wiki/Q36578&amp;#124;Edit_this_at_Wikidata\" scope=\"row\" class=\"navbox-group\" style=\"width:1%\"><a href=\"/wiki/Help:Authority_control\" title=\"Help:Authority control\">Authority control</a> <a href=\"https://www.wikidata.org/wiki/Q36578\" title=\"Edit this at Wikidata\"><img alt=\"Edit this at Wikidata\" src=\"//upload.wikimedia.org/wikipedia/en/thumb/8/8a/OOjs_UI_icon_edit-ltr-progressive.svg/10px-OOjs_UI_icon_edit-ltr-progressive.svg.png\" decoding=\"async\" width=\"10\" height=\"10\" style=\"vertical-align: text-top\" srcset=\"//upload.wikimedia.org/wikipedia/en/thumb/8/8a/OOjs_UI_icon_edit-ltr-progressive.svg/15px-OOjs_UI_icon_edit-ltr-progressive.svg.png 1.5x, //upload.wikimedia.org/wikipedia/en/thumb/8/8a/OOjs_UI_icon_edit-ltr-progressive.svg/20px-OOjs_UI_icon_edit-ltr-progressive.svg.png 2x\" data-file-width=\"20\" data-file-height=\"20\" /></a></th><td class=\"navbox-list navbox-odd\" style=\"text-align:left;border-left-width:2px;border-left-style:solid;width:100%;padding:0px\"><div style=\"padding:0em 0.25em\">\\n<ul><li><span class=\"nowrap\"><a class=\"mw-selflink selflink\">GND</a>: <span class=\"uid\"><a rel=\"nofollow\" class=\"external text\" href=\"https://d-nb.info/gnd/7749153-1\">7749153-1</a></span></span></li>\\n<li><span class=\"nowrap\"><a href=\"/wiki/Virtual_International_Authority_File\" title=\"Virtual International Authority File\">VIAF</a>: <span class=\"uid\"><a rel=\"nofollow\" class=\"external text\" href=\"https://viaf.org/viaf/188136221\">188136221</a></span></span></li></ul>\\n</div></td></tr></tbody></table></div>\\n<!-- \\nNewPP limit report\\nParsed by mw1272\\nCached time: 20200409164609\\nCache expiry: 2592000\\nDynamic content: false\\nComplications: []\\nCPU time usage: 0.440 seconds\\nReal time usage: 0.616 seconds\\nPreprocessor visited node count: 905/1000000\\nPost‐expand include size: 34394/2097152 bytes\\nTemplate argument size: 2889/2097152 bytes\\nHighest expansion depth: 19/40\\nExpensive parser function count: 3/500\\nUnstrip recursion depth: 0/20\\nUnstrip post‐expand size: 2249/5000000 bytes\\nNumber of Wikibase entities loaded: 1/400\\nLua time usage: 0.286/10.000 seconds\\nLua memory usage: 12.99 MB/50 MB\\n-->\\n<!--\\nTransclusion expansion time report (%,ms,calls,template)\\n100.00%  554.875      1 -total\\n 33.59%  186.369      6 Template:Lang-de\\n 23.20%  128.715      1 Template:Infobox_identifier\\n 22.54%  125.093      1 Template:Infobox\\n 18.55%  102.929      2 Template:Official_URL\\n 15.25%   84.602      1 Template:Update\\n 12.92%   71.707      2 Template:URL\\n 10.71%   59.451      4 Template:Main_other\\n 10.36%   57.486      2 Template:If_empty\\n  9.67%   53.645      1 Template:Ambox\\n-->\\n\\n<!-- Saved in parser cache with key enwiki:pcache:idhash:35566739-0!canonical and timestamp 20200409164608 and revision id 934395056\\n -->\\n</div>')"
      ]
     },
     "execution_count": 62,
     "metadata": {},
     "output_type": "execute_result"
    }
   ],
   "source": [
    "_download_page_data(res[-1], 'en', 60)"
   ]
  },
  {
   "cell_type": "code",
   "execution_count": null,
   "metadata": {},
   "outputs": [],
   "source": []
  }
 ],
 "metadata": {
  "kernelspec": {
   "display_name": "Python 3",
   "language": "python",
   "name": "python3"
  },
  "language_info": {
   "codemirror_mode": {
    "name": "ipython",
    "version": 3
   },
   "file_extension": ".py",
   "mimetype": "text/x-python",
   "name": "python",
   "nbconvert_exporter": "python",
   "pygments_lexer": "ipython3",
   "version": "3.7.7"
  }
 },
 "nbformat": 4,
 "nbformat_minor": 4
}
