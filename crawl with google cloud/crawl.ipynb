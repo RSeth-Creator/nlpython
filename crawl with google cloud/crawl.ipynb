{
 "cells": [
  {
   "cell_type": "code",
   "execution_count": 21,
   "metadata": {},
   "outputs": [],
   "source": [
    "#https://www.w3schools.com/python/python_mysql_insert.asp"
   ]
  },
  {
   "cell_type": "code",
   "execution_count": 22,
   "metadata": {},
   "outputs": [],
   "source": [
    "#sql = \"INSERT INTO links (name, address) VALUES (%s, %s)\"\n",
    "#val = (\"John\", \"Highway 21\")\n",
    "#mycursor.execute(sql, val)\n",
    "\n",
    "#mydb.commit()\n",
    "\n",
    "#print(mycursor.rowcount, \"record inserted.\")"
   ]
  },
  {
   "cell_type": "code",
   "execution_count": 2,
   "metadata": {},
   "outputs": [],
   "source": [
    "import mysql.connector"
   ]
  },
  {
   "cell_type": "code",
   "execution_count": 17,
   "metadata": {},
   "outputs": [
    {
     "name": "stdout",
     "output_type": "stream",
     "text": [
      "<mysql.connector.connection.MySQLConnection object at 0x00000000084B2448>\n"
     ]
    }
   ],
   "source": [
    "mydb = mysql.connector.connect(\n",
    "    host=\"localhost\",\n",
    "    user=\"wikidb\",\n",
    "    passwd=\"wikidb\",\n",
    "    database=\"wikidb\"\n",
    ")\n",
    "\n",
    "print(mydb) "
   ]
  },
  {
   "cell_type": "code",
   "execution_count": 18,
   "metadata": {},
   "outputs": [],
   "source": [
    "#mycursor.execute(\"CREATE TABLE customers (name VARCHAR(255), address VARCHAR(255))\")"
   ]
  },
  {
   "cell_type": "code",
   "execution_count": 19,
   "metadata": {},
   "outputs": [
    {
     "name": "stdout",
     "output_type": "stream",
     "text": [
      "('information_schema',)\n",
      "('test',)\n",
      "('wikidb',)\n"
     ]
    }
   ],
   "source": [
    "\n",
    "mycursor = mydb.cursor()\n",
    "\n",
    "mycursor.execute(\"SHOW DATABASES\")\n",
    "\n",
    "for x in mycursor:\n",
    "  print(x) "
   ]
  },
  {
   "cell_type": "code",
   "execution_count": 20,
   "metadata": {},
   "outputs": [
    {
     "name": "stdout",
     "output_type": "stream",
     "text": [
      "('articles',)\n",
      "('links',)\n"
     ]
    }
   ],
   "source": [
    "mycursor = mydb.cursor()\n",
    "\n",
    "mycursor.execute(\"SHOW TABLES\")\n",
    "\n",
    "for x in mycursor:\n",
    "  print(x) "
   ]
  },
  {
   "cell_type": "code",
   "execution_count": 64,
   "metadata": {},
   "outputs": [
    {
     "ename": "ProgrammingError",
     "evalue": "1064 (42000): You have an error in your SQL syntax; check the manual that corresponds to your MariaDB server version for the right syntax to use near '' at line 1",
     "output_type": "error",
     "traceback": [
      "\u001b[1;31m---------------------------------------------------------------------------\u001b[0m",
      "\u001b[1;31mProgrammingError\u001b[0m                          Traceback (most recent call last)",
      "\u001b[1;32m<ipython-input-64-da9a9a94b954>\u001b[0m in \u001b[0;36m<module>\u001b[1;34m\u001b[0m\n\u001b[0;32m      1\u001b[0m \u001b[0mmycursor\u001b[0m \u001b[1;33m=\u001b[0m \u001b[0mmydb\u001b[0m\u001b[1;33m.\u001b[0m\u001b[0mcursor\u001b[0m\u001b[1;33m(\u001b[0m\u001b[1;33m)\u001b[0m\u001b[1;33m\u001b[0m\u001b[1;33m\u001b[0m\u001b[0m\n\u001b[0;32m      2\u001b[0m \u001b[1;33m\u001b[0m\u001b[0m\n\u001b[1;32m----> 3\u001b[1;33m \u001b[0mmycursor\u001b[0m\u001b[1;33m.\u001b[0m\u001b[0mexecute\u001b[0m\u001b[1;33m(\u001b[0m\u001b[1;34m\"SELECT * FROM (SELECT href FROM links WHERE href IN (\\\"lucas\\\", \\\"lucas2\\\"))\"\u001b[0m\u001b[1;33m)\u001b[0m\u001b[1;33m\u001b[0m\u001b[1;33m\u001b[0m\u001b[0m\n\u001b[0m\u001b[0;32m      4\u001b[0m \u001b[1;33m\u001b[0m\u001b[0m\n\u001b[0;32m      5\u001b[0m \u001b[1;32mfor\u001b[0m \u001b[0mx\u001b[0m\u001b[1;33m,\u001b[0m \u001b[1;32min\u001b[0m \u001b[0mmycursor\u001b[0m\u001b[1;33m:\u001b[0m\u001b[1;33m\u001b[0m\u001b[1;33m\u001b[0m\u001b[0m\n",
      "\u001b[1;32m~\\miniconda3\\envs\\nlp\\lib\\site-packages\\mysql\\connector\\cursor.py\u001b[0m in \u001b[0;36mexecute\u001b[1;34m(self, operation, params, multi)\u001b[0m\n\u001b[0;32m    549\u001b[0m         \u001b[1;32melse\u001b[0m\u001b[1;33m:\u001b[0m\u001b[1;33m\u001b[0m\u001b[1;33m\u001b[0m\u001b[0m\n\u001b[0;32m    550\u001b[0m             \u001b[1;32mtry\u001b[0m\u001b[1;33m:\u001b[0m\u001b[1;33m\u001b[0m\u001b[1;33m\u001b[0m\u001b[0m\n\u001b[1;32m--> 551\u001b[1;33m                 \u001b[0mself\u001b[0m\u001b[1;33m.\u001b[0m\u001b[0m_handle_result\u001b[0m\u001b[1;33m(\u001b[0m\u001b[0mself\u001b[0m\u001b[1;33m.\u001b[0m\u001b[0m_connection\u001b[0m\u001b[1;33m.\u001b[0m\u001b[0mcmd_query\u001b[0m\u001b[1;33m(\u001b[0m\u001b[0mstmt\u001b[0m\u001b[1;33m)\u001b[0m\u001b[1;33m)\u001b[0m\u001b[1;33m\u001b[0m\u001b[1;33m\u001b[0m\u001b[0m\n\u001b[0m\u001b[0;32m    552\u001b[0m             \u001b[1;32mexcept\u001b[0m \u001b[0merrors\u001b[0m\u001b[1;33m.\u001b[0m\u001b[0mInterfaceError\u001b[0m\u001b[1;33m:\u001b[0m\u001b[1;33m\u001b[0m\u001b[1;33m\u001b[0m\u001b[0m\n\u001b[0;32m    553\u001b[0m                 \u001b[1;32mif\u001b[0m \u001b[0mself\u001b[0m\u001b[1;33m.\u001b[0m\u001b[0m_connection\u001b[0m\u001b[1;33m.\u001b[0m\u001b[0m_have_next_result\u001b[0m\u001b[1;33m:\u001b[0m  \u001b[1;31m# pylint: disable=W0212\u001b[0m\u001b[1;33m\u001b[0m\u001b[1;33m\u001b[0m\u001b[0m\n",
      "\u001b[1;32m~\\miniconda3\\envs\\nlp\\lib\\site-packages\\mysql\\connector\\connection.py\u001b[0m in \u001b[0;36mcmd_query\u001b[1;34m(self, query, raw, buffered, raw_as_string)\u001b[0m\n\u001b[0;32m    488\u001b[0m         \u001b[1;32mif\u001b[0m \u001b[1;32mnot\u001b[0m \u001b[0misinstance\u001b[0m\u001b[1;33m(\u001b[0m\u001b[0mquery\u001b[0m\u001b[1;33m,\u001b[0m \u001b[0mbytes\u001b[0m\u001b[1;33m)\u001b[0m\u001b[1;33m:\u001b[0m\u001b[1;33m\u001b[0m\u001b[1;33m\u001b[0m\u001b[0m\n\u001b[0;32m    489\u001b[0m             \u001b[0mquery\u001b[0m \u001b[1;33m=\u001b[0m \u001b[0mquery\u001b[0m\u001b[1;33m.\u001b[0m\u001b[0mencode\u001b[0m\u001b[1;33m(\u001b[0m\u001b[1;34m'utf-8'\u001b[0m\u001b[1;33m)\u001b[0m\u001b[1;33m\u001b[0m\u001b[1;33m\u001b[0m\u001b[0m\n\u001b[1;32m--> 490\u001b[1;33m         \u001b[0mresult\u001b[0m \u001b[1;33m=\u001b[0m \u001b[0mself\u001b[0m\u001b[1;33m.\u001b[0m\u001b[0m_handle_result\u001b[0m\u001b[1;33m(\u001b[0m\u001b[0mself\u001b[0m\u001b[1;33m.\u001b[0m\u001b[0m_send_cmd\u001b[0m\u001b[1;33m(\u001b[0m\u001b[0mServerCmd\u001b[0m\u001b[1;33m.\u001b[0m\u001b[0mQUERY\u001b[0m\u001b[1;33m,\u001b[0m \u001b[0mquery\u001b[0m\u001b[1;33m)\u001b[0m\u001b[1;33m)\u001b[0m\u001b[1;33m\u001b[0m\u001b[1;33m\u001b[0m\u001b[0m\n\u001b[0m\u001b[0;32m    491\u001b[0m \u001b[1;33m\u001b[0m\u001b[0m\n\u001b[0;32m    492\u001b[0m         \u001b[1;32mif\u001b[0m \u001b[0mself\u001b[0m\u001b[1;33m.\u001b[0m\u001b[0m_have_next_result\u001b[0m\u001b[1;33m:\u001b[0m\u001b[1;33m\u001b[0m\u001b[1;33m\u001b[0m\u001b[0m\n",
      "\u001b[1;32m~\\miniconda3\\envs\\nlp\\lib\\site-packages\\mysql\\connector\\connection.py\u001b[0m in \u001b[0;36m_handle_result\u001b[1;34m(self, packet)\u001b[0m\n\u001b[0;32m    393\u001b[0m             \u001b[1;32mreturn\u001b[0m \u001b[0mself\u001b[0m\u001b[1;33m.\u001b[0m\u001b[0m_handle_eof\u001b[0m\u001b[1;33m(\u001b[0m\u001b[0mpacket\u001b[0m\u001b[1;33m)\u001b[0m\u001b[1;33m\u001b[0m\u001b[1;33m\u001b[0m\u001b[0m\n\u001b[0;32m    394\u001b[0m         \u001b[1;32melif\u001b[0m \u001b[0mpacket\u001b[0m\u001b[1;33m[\u001b[0m\u001b[1;36m4\u001b[0m\u001b[1;33m]\u001b[0m \u001b[1;33m==\u001b[0m \u001b[1;36m255\u001b[0m\u001b[1;33m:\u001b[0m\u001b[1;33m\u001b[0m\u001b[1;33m\u001b[0m\u001b[0m\n\u001b[1;32m--> 395\u001b[1;33m             \u001b[1;32mraise\u001b[0m \u001b[0merrors\u001b[0m\u001b[1;33m.\u001b[0m\u001b[0mget_exception\u001b[0m\u001b[1;33m(\u001b[0m\u001b[0mpacket\u001b[0m\u001b[1;33m)\u001b[0m\u001b[1;33m\u001b[0m\u001b[1;33m\u001b[0m\u001b[0m\n\u001b[0m\u001b[0;32m    396\u001b[0m \u001b[1;33m\u001b[0m\u001b[0m\n\u001b[0;32m    397\u001b[0m         \u001b[1;31m# We have a text result set\u001b[0m\u001b[1;33m\u001b[0m\u001b[1;33m\u001b[0m\u001b[1;33m\u001b[0m\u001b[0m\n",
      "\u001b[1;31mProgrammingError\u001b[0m: 1064 (42000): You have an error in your SQL syntax; check the manual that corresponds to your MariaDB server version for the right syntax to use near '' at line 1"
     ]
    }
   ],
   "source": [
    "mycursor = mydb.cursor()\n",
    "\n",
    "mycursor.execute(\"SELECT * FROM (SELECT href FROM links WHERE href IN (\\\"lucas\\\", \\\"lucas2\\\"))\")\n",
    "\n",
    "for x, in mycursor:\n",
    "  print(x.decode()) "
   ]
  },
  {
   "cell_type": "code",
   "execution_count": 44,
   "metadata": {},
   "outputs": [
    {
     "data": {
      "text/plain": [
       "'teste123'"
      ]
     },
     "execution_count": 44,
     "metadata": {},
     "output_type": "execute_result"
    }
   ],
   "source": [
    "x[0].decode()"
   ]
  },
  {
   "cell_type": "code",
   "execution_count": null,
   "metadata": {},
   "outputs": [],
   "source": [
    "sql = \"S links (href) VALUES (%s)\"\n",
    "val = (href,)\n",
    "mycursor.execute(sql, val)\n",
    "\n",
    "mydb.commit()"
   ]
  },
  {
   "cell_type": "code",
   "execution_count": 89,
   "metadata": {},
   "outputs": [],
   "source": [
    "def insert_hrefs(hrefs):\n",
    "    sql = \"INSERT INTO links (href) VALUES (%s) ON DUPLICATE KEY UPDATE href=href\"\n",
    "    val = [(href,) for href in hrefs]\n",
    "    mycursor.executemany(sql, val)\n",
    "    mydb.commit()\n",
    "    #print(mycursor.rowcount, \"was inserted.\") "
   ]
  },
  {
   "cell_type": "code",
   "execution_count": 96,
   "metadata": {},
   "outputs": [],
   "source": [
    "def update_hrefs(hrefs, pageids):\n",
    "    sql = \"INSERT INTO links (href, pageid) VALUES (%s, %s) ON DUPLICATE KEY UPDATE pageid=VALUES(pageid)\"\n",
    "    val = list(zip(hrefs, pageids))\n",
    "    mycursor.executemany(sql, val)\n",
    "    mydb.commit()\n",
    "    #print(mycursor.rowcount, \"was inserted.\") "
   ]
  },
  {
   "cell_type": "code",
   "execution_count": 115,
   "metadata": {},
   "outputs": [],
   "source": [
    "def insert_article(articles_data):\n",
    "    sql = \"\"\"INSERT INTO articles (title, html, pageid) VALUES (%s, %s, %s)\n",
    "        ON DUPLICATE KEY UPDATE title=VALUES(title), html=VALUES(html), pageid=VALUES(pageid)\"\"\"\n",
    "    mycursor.executemany(sql, articles_data)\n",
    "    mydb.commit()\n",
    "    #print(mycursor.rowcount, \"was inserted.\") "
   ]
  },
  {
   "cell_type": "code",
   "execution_count": 7,
   "metadata": {},
   "outputs": [],
   "source": [
    "import mysql.connector\n",
    "\n",
    "class WikiDatabase:\n",
    "    def __init__(self, host, user, password, database):\n",
    "        self.db = mysql.connector.connect(\n",
    "            host=host,\n",
    "            user=user,\n",
    "            passwd=password,\n",
    "            database=database\n",
    "        )\n",
    "        \n",
    "        self.cursor = self.db.cursor()\n",
    "        \n",
    "    def insert_hrefs(self, hrefs):\n",
    "        sql = \"INSERT INTO links (href) VALUES (%s) ON DUPLICATE KEY UPDATE href=href\"\n",
    "        val = [(href,) for href in hrefs]\n",
    "        self._execute_query(sql, val)\n",
    "        #self.cursor.executemany(sql, val)\n",
    "        #self.db.commit()\n",
    "        #print(mycursor.rowcount, \"was inserted.\") \n",
    "        \n",
    "    def update_hrefs(self, hrefs, pageids):\n",
    "        sql = \"INSERT INTO links (href, pageid) VALUES (%s, %s) ON DUPLICATE KEY UPDATE pageid=VALUES(pageid)\"\n",
    "        val = list(zip(hrefs, pageids))\n",
    "        self._execute_query(sql, val)\n",
    "        #self.cursor.executemany(sql, val)\n",
    "        #self.db.commit()\n",
    "        \n",
    "    def insert_article(self, articles_data):\n",
    "        sql = \"\"\"INSERT INTO articles (title, html, pageid) VALUES (%s, %s, %s)\n",
    "            ON DUPLICATE KEY UPDATE title=VALUES(title), html=VALUES(html), pageid=VALUES(pageid)\"\"\"\n",
    "        self._execute_query(sql, articles_data)\n",
    "        #self.cursor.executemany(sql, articles_data)\n",
    "        #self.db.commit()\n",
    "        \n",
    "    def _execute_query(self, sql, values):\n",
    "        try:\n",
    "            self.cursor.executemany(sql, values)\n",
    "            self.db.commit()\n",
    "        except Exception as e:\n",
    "            print(\"[ERROR]\\t{}\".format(e))"
   ]
  },
  {
   "cell_type": "code",
   "execution_count": 8,
   "metadata": {},
   "outputs": [],
   "source": [
    "wikidb = WikiDatabase(\"localhost\", \"wikidb\", \"wikidb\", \"wikidb\")"
   ]
  },
  {
   "cell_type": "code",
   "execution_count": 10,
   "metadata": {},
   "outputs": [],
   "source": [
    "#wikidb.insert_hrefs(['llllll'])"
   ]
  },
  {
   "cell_type": "code",
   "execution_count": 11,
   "metadata": {},
   "outputs": [],
   "source": [
    "#wikidb.insert_article([('lucasarticle', 'fsafas', 123456)])"
   ]
  },
  {
   "cell_type": "code",
   "execution_count": 13,
   "metadata": {},
   "outputs": [],
   "source": [
    "#wikidb.update_hrefs(['llllll'], [123456789])"
   ]
  },
  {
   "cell_type": "code",
   "execution_count": 5,
   "metadata": {},
   "outputs": [],
   "source": [
    "from wikipydia import wikipedia\n",
    "from wikipydia.url import UnquotedURL, QuotedURL"
   ]
  },
  {
   "cell_type": "code",
   "execution_count": 14,
   "metadata": {},
   "outputs": [],
   "source": [
    "article = wikipedia.get_article_by_href(UnquotedURL(\"Rai\"), \"tet\")"
   ]
  },
  {
   "cell_type": "code",
   "execution_count": 15,
   "metadata": {},
   "outputs": [
    {
     "name": "stdout",
     "output_type": "stream",
     "text": [
      "\n",
      "Rai  \n",
      "\n",
      "\n",
      "Rai nia ilas hosi nave espasiál Apollo 17\n",
      "\n",
      "\n",
      "Karaterístika orbitál sira\n",
      "\n",
      "\n",
      "Semieixu boot liu\n",
      "\n",
      "149 598 261 km 1,00000261 UA\n",
      "\n",
      "\n",
      "Periéliu\n",
      "\n",
      "147 098 290 km0,98329134 UA\n",
      "\n",
      "\n",
      "Aféliu\n",
      "\n",
      "152 098 232 km1,01671388 UA\n",
      "\n",
      "\n",
      "Exentrisidade\n",
      "\n",
      "0,01671123\n",
      "\n",
      "\n",
      "Períodu orbitál\n",
      "\n",
      "Loron 365,256363004(tinan 1,000017421)\n",
      "\n",
      "\n",
      "Velosidade orbitál média\n",
      "\n",
      "107 200 km/oras29,78 [3] km/segundu\n",
      "\n",
      "\n",
      "Inklinasaun\n",
      "\n",
      "7,155° ba ekuadór Loro nian1,57869[4]° ba planu invariavel\n",
      "\n",
      "\n",
      "Argumentu periastru\n",
      "\n",
      "114,20783º\n",
      "\n",
      "\n",
      "Lonjitude fukun asendente\n",
      "\n",
      "348,73936°\n",
      "\n",
      "\n",
      "Karaterístika fízika sira\n",
      "\n",
      "\n",
      "Diámetru ekuatoriál\n",
      "\n",
      "12 756,2 km\n",
      "\n",
      "\n",
      "Área rai-belak\n",
      "\n",
      "510 072 000 km²\n",
      "\n",
      "\n",
      "Volume\n",
      "\n",
      "1,08321×1012 km³\n",
      "\n",
      "\n",
      "Lolon\n",
      "\n",
      "5,9736×1024\n",
      "\n",
      "\n",
      "Densidade média\n",
      "\n",
      "5,515 g/cm³\n",
      "\n",
      "\n",
      "Gravidade ekuatoriál\n",
      "\n",
      "9,780327 m/s²0,99732 g\n",
      "\n",
      "\n",
      "Loron siderál\n",
      "\n",
      "Loron 0,99726968oras 23 minutu 56 segundu 4,100\n",
      "\n",
      "\n",
      "Velosidade eskape\n",
      "\n",
      "11,186 km/s\n",
      "\n",
      "\n",
      "Inklinasaun aksiál\n",
      "\n",
      "23°26'21\",4119\n",
      "\n",
      "\n",
      "Albedu\n",
      "\n",
      "0,367 (jeométriku)0,306 (Bond nian)\n",
      "\n",
      "\n",
      "Temperatura\n",
      "\n",
      "média: 14 °C-93,2 °C mínima57,8[12] °C boot liu\n",
      "\n",
      "\n",
      "Kompozisaun atmosfera nian\n",
      "\n",
      "\n",
      "Presaun atmosférika\n",
      "\n",
      "101,325 kPa ba nivel tasi\n",
      "\n",
      "\n",
      "Nitrojéniu\n",
      "\n",
      "78,08%\n",
      "\n",
      "\n",
      "Oksijéniu\n",
      "\n",
      "20,95%\n",
      "\n",
      "\n",
      "Argóniu\n",
      "\n",
      "0,93%\n",
      "\n",
      "\n",
      "Dióksidu karbonu\n",
      "\n",
      "0,038%\n",
      "\n",
      "\n",
      "Suar bee (variavel banati-tuir klima)\n",
      "\n",
      "-1\n",
      "Rai planeta datoluk Sistema Solár nian banati-tuir ninian kdook hosi Loro, no nia dalimak banati-tuir ninian tamañu. Nia planeta mesak, oras daudaun, ida-ne'ebé moris nia esisténsia no produsaun posivel. Rai hetan hahoris tiha iha altura oin-ida de'it bainhira Loro no Sistema Solár nia restu hetan hahoris, millaun 4 570 tinan nian uluk.\n",
      "71% Rai nian hetan taka hosi bee no nia planeta mesak ida-ne'ebé ita bele hetan permanentemente bee iha estadu been iha rai-belak. Bee halo posivel tiha moris iha Rai no halo tiha sistema ida erozaun no sirkulasaun mesak nian iha Sistema Solár.\n",
      "\n"
     ]
    }
   ],
   "source": [
    "print(article.text())"
   ]
  },
  {
   "cell_type": "code",
   "execution_count": null,
   "metadata": {},
   "outputs": [],
   "source": []
  }
 ],
 "metadata": {
  "kernelspec": {
   "display_name": "Python 3",
   "language": "python",
   "name": "python3"
  },
  "language_info": {
   "codemirror_mode": {
    "name": "ipython",
    "version": 3
   },
   "file_extension": ".py",
   "mimetype": "text/x-python",
   "name": "python",
   "nbconvert_exporter": "python",
   "pygments_lexer": "ipython3",
   "version": "3.7.7"
  }
 },
 "nbformat": 4,
 "nbformat_minor": 4
}
